{
 "cells": [
  {
   "cell_type": "code",
   "execution_count": 1,
   "metadata": {},
   "outputs": [
    {
     "data": {
      "text/html": [
       "<div>\n",
       "<style scoped>\n",
       "    .dataframe tbody tr th:only-of-type {\n",
       "        vertical-align: middle;\n",
       "    }\n",
       "\n",
       "    .dataframe tbody tr th {\n",
       "        vertical-align: top;\n",
       "    }\n",
       "\n",
       "    .dataframe thead th {\n",
       "        text-align: right;\n",
       "    }\n",
       "</style>\n",
       "<table border=\"1\" class=\"dataframe\">\n",
       "  <thead>\n",
       "    <tr style=\"text-align: right;\">\n",
       "      <th></th>\n",
       "      <th>index</th>\n",
       "      <th>Name</th>\n",
       "      <th>Platform</th>\n",
       "      <th>Year_of_Release</th>\n",
       "      <th>Genre</th>\n",
       "      <th>Publisher</th>\n",
       "      <th>NA_Sales</th>\n",
       "      <th>EU_Sales</th>\n",
       "      <th>JP_Sales</th>\n",
       "      <th>Other_Sales</th>\n",
       "      <th>Global_Sales</th>\n",
       "      <th>Critic_Score</th>\n",
       "      <th>Critic_Count</th>\n",
       "      <th>User_Score</th>\n",
       "      <th>User_Count</th>\n",
       "      <th>Developer</th>\n",
       "      <th>Rating</th>\n",
       "    </tr>\n",
       "  </thead>\n",
       "  <tbody>\n",
       "    <tr>\n",
       "      <th>0</th>\n",
       "      <td>0</td>\n",
       "      <td>Wii Sports</td>\n",
       "      <td>Wii</td>\n",
       "      <td>2006.0</td>\n",
       "      <td>Sports</td>\n",
       "      <td>Nintendo</td>\n",
       "      <td>41.36</td>\n",
       "      <td>28.96</td>\n",
       "      <td>3.77</td>\n",
       "      <td>8.45</td>\n",
       "      <td>82.53</td>\n",
       "      <td>76.0</td>\n",
       "      <td>51.0</td>\n",
       "      <td>8</td>\n",
       "      <td>322.0</td>\n",
       "      <td>Nintendo</td>\n",
       "      <td>E</td>\n",
       "    </tr>\n",
       "    <tr>\n",
       "      <th>1</th>\n",
       "      <td>1</td>\n",
       "      <td>Super Mario Bros.</td>\n",
       "      <td>NES</td>\n",
       "      <td>1985.0</td>\n",
       "      <td>Platform</td>\n",
       "      <td>Nintendo</td>\n",
       "      <td>29.08</td>\n",
       "      <td>3.58</td>\n",
       "      <td>6.81</td>\n",
       "      <td>0.77</td>\n",
       "      <td>40.24</td>\n",
       "      <td>NaN</td>\n",
       "      <td>NaN</td>\n",
       "      <td>NaN</td>\n",
       "      <td>NaN</td>\n",
       "      <td>NaN</td>\n",
       "      <td>NaN</td>\n",
       "    </tr>\n",
       "    <tr>\n",
       "      <th>2</th>\n",
       "      <td>2</td>\n",
       "      <td>Mario Kart Wii</td>\n",
       "      <td>Wii</td>\n",
       "      <td>2008.0</td>\n",
       "      <td>Racing</td>\n",
       "      <td>Nintendo</td>\n",
       "      <td>15.68</td>\n",
       "      <td>12.76</td>\n",
       "      <td>3.79</td>\n",
       "      <td>3.29</td>\n",
       "      <td>35.52</td>\n",
       "      <td>82.0</td>\n",
       "      <td>73.0</td>\n",
       "      <td>8.3</td>\n",
       "      <td>709.0</td>\n",
       "      <td>Nintendo</td>\n",
       "      <td>E</td>\n",
       "    </tr>\n",
       "    <tr>\n",
       "      <th>3</th>\n",
       "      <td>3</td>\n",
       "      <td>Wii Sports Resort</td>\n",
       "      <td>Wii</td>\n",
       "      <td>2009.0</td>\n",
       "      <td>Sports</td>\n",
       "      <td>Nintendo</td>\n",
       "      <td>15.61</td>\n",
       "      <td>10.93</td>\n",
       "      <td>3.28</td>\n",
       "      <td>2.95</td>\n",
       "      <td>32.77</td>\n",
       "      <td>80.0</td>\n",
       "      <td>73.0</td>\n",
       "      <td>8</td>\n",
       "      <td>192.0</td>\n",
       "      <td>Nintendo</td>\n",
       "      <td>E</td>\n",
       "    </tr>\n",
       "    <tr>\n",
       "      <th>4</th>\n",
       "      <td>4</td>\n",
       "      <td>Pokemon Red/Pokemon Blue</td>\n",
       "      <td>GB</td>\n",
       "      <td>1996.0</td>\n",
       "      <td>Role-Playing</td>\n",
       "      <td>Nintendo</td>\n",
       "      <td>11.27</td>\n",
       "      <td>8.89</td>\n",
       "      <td>10.22</td>\n",
       "      <td>1.00</td>\n",
       "      <td>31.37</td>\n",
       "      <td>NaN</td>\n",
       "      <td>NaN</td>\n",
       "      <td>NaN</td>\n",
       "      <td>NaN</td>\n",
       "      <td>NaN</td>\n",
       "      <td>NaN</td>\n",
       "    </tr>\n",
       "  </tbody>\n",
       "</table>\n",
       "</div>"
      ],
      "text/plain": [
       "   index                      Name Platform  Year_of_Release         Genre  \\\n",
       "0      0                Wii Sports      Wii           2006.0        Sports   \n",
       "1      1         Super Mario Bros.      NES           1985.0      Platform   \n",
       "2      2            Mario Kart Wii      Wii           2008.0        Racing   \n",
       "3      3         Wii Sports Resort      Wii           2009.0        Sports   \n",
       "4      4  Pokemon Red/Pokemon Blue       GB           1996.0  Role-Playing   \n",
       "\n",
       "  Publisher  NA_Sales  EU_Sales  JP_Sales  Other_Sales  Global_Sales  \\\n",
       "0  Nintendo     41.36     28.96      3.77         8.45         82.53   \n",
       "1  Nintendo     29.08      3.58      6.81         0.77         40.24   \n",
       "2  Nintendo     15.68     12.76      3.79         3.29         35.52   \n",
       "3  Nintendo     15.61     10.93      3.28         2.95         32.77   \n",
       "4  Nintendo     11.27      8.89     10.22         1.00         31.37   \n",
       "\n",
       "   Critic_Score  Critic_Count User_Score  User_Count Developer Rating  \n",
       "0          76.0          51.0          8       322.0  Nintendo      E  \n",
       "1           NaN           NaN        NaN         NaN       NaN    NaN  \n",
       "2          82.0          73.0        8.3       709.0  Nintendo      E  \n",
       "3          80.0          73.0          8       192.0  Nintendo      E  \n",
       "4           NaN           NaN        NaN         NaN       NaN    NaN  "
      ]
     },
     "execution_count": 1,
     "metadata": {},
     "output_type": "execute_result"
    }
   ],
   "source": [
    "import pandas as pd\n",
    "import numpy as np\n",
    "\n",
    "df = pd.read_csv('datasets/VideoGamesSales.csv')\n",
    "df.head()"
   ]
  },
  {
   "cell_type": "code",
   "execution_count": 2,
   "metadata": {},
   "outputs": [
    {
     "name": "stdout",
     "output_type": "stream",
     "text": [
      "<class 'pandas.core.frame.DataFrame'>\n",
      "RangeIndex: 16928 entries, 0 to 16927\n",
      "Data columns (total 17 columns):\n",
      " #   Column           Non-Null Count  Dtype  \n",
      "---  ------           --------------  -----  \n",
      " 0   index            16928 non-null  int64  \n",
      " 1   Name             16926 non-null  object \n",
      " 2   Platform         16928 non-null  object \n",
      " 3   Year_of_Release  16655 non-null  float64\n",
      " 4   Genre            16926 non-null  object \n",
      " 5   Publisher        16873 non-null  object \n",
      " 6   NA_Sales         16928 non-null  float64\n",
      " 7   EU_Sales         16928 non-null  float64\n",
      " 8   JP_Sales         16928 non-null  float64\n",
      " 9   Other_Sales      16928 non-null  float64\n",
      " 10  Global_Sales     16928 non-null  float64\n",
      " 11  Critic_Score     8260 non-null   float64\n",
      " 12  Critic_Count     8260 non-null   float64\n",
      " 13  User_Score       10159 non-null  object \n",
      " 14  User_Count       7718 non-null   float64\n",
      " 15  Developer        10240 non-null  object \n",
      " 16  Rating           10092 non-null  object \n",
      "dtypes: float64(9), int64(1), object(7)\n",
      "memory usage: 2.2+ MB\n"
     ]
    }
   ],
   "source": [
    "df.info()"
   ]
  },
  {
   "cell_type": "code",
   "execution_count": 3,
   "metadata": {},
   "outputs": [
    {
     "data": {
      "text/plain": [
       "index                 0\n",
       "Name                  2\n",
       "Platform              0\n",
       "Year_of_Release     273\n",
       "Genre                 2\n",
       "Publisher            55\n",
       "NA_Sales              0\n",
       "EU_Sales              0\n",
       "JP_Sales              0\n",
       "Other_Sales           0\n",
       "Global_Sales          0\n",
       "Critic_Score       8668\n",
       "Critic_Count       8668\n",
       "User_Score         6769\n",
       "User_Count         9210\n",
       "Developer          6688\n",
       "Rating             6836\n",
       "dtype: int64"
      ]
     },
     "execution_count": 3,
     "metadata": {},
     "output_type": "execute_result"
    }
   ],
   "source": [
    "# Show counts of null values in all columns\n",
    "\n",
    "df.isnull().sum()"
   ]
  },
  {
   "cell_type": "code",
   "execution_count": 4,
   "metadata": {},
   "outputs": [
    {
     "data": {
      "text/plain": [
       "index              16928\n",
       "Name               11562\n",
       "Platform              31\n",
       "Year_of_Release       39\n",
       "Genre                 12\n",
       "Publisher            581\n",
       "NA_Sales             402\n",
       "EU_Sales             307\n",
       "JP_Sales             244\n",
       "Other_Sales          155\n",
       "Global_Sales         629\n",
       "Critic_Score          82\n",
       "Critic_Count         106\n",
       "User_Score            96\n",
       "User_Count           888\n",
       "Developer           1696\n",
       "Rating                 8\n",
       "dtype: int64"
      ]
     },
     "execution_count": 4,
     "metadata": {},
     "output_type": "execute_result"
    }
   ],
   "source": [
    "# Count unique values in all columns\n",
    "\n",
    "df.nunique()\n"
   ]
  },
  {
   "cell_type": "code",
   "execution_count": 5,
   "metadata": {},
   "outputs": [
    {
     "name": "stdout",
     "output_type": "stream",
     "text": [
      "['Sports' 'Platform' 'Racing' 'Role-Playing' 'Puzzle' 'Misc' 'Shooter'\n",
      " 'Simulation' 'Action' 'Fighting' 'Adventure' 'Strategy' nan]\n",
      "['Wii' 'NES' 'GB' 'DS' 'X360' 'PS3' 'PS2' 'SNES' 'GBA' 'PS4' '3DS' 'N64'\n",
      " 'PS' 'XB' 'PC' '2600' 'PSP' 'XOne' 'WiiU' 'GC' 'GEN' 'DC' 'PSV' 'SAT'\n",
      " 'SCD' 'WS' 'NG' 'TG16' '3DO' 'GG' 'PCFX']\n",
      "['E' nan 'M' 'T' 'E10+' 'K-A' 'AO' 'EC' 'RP']\n"
     ]
    }
   ],
   "source": [
    "# print unique columns of Genre and Platfrom column\n",
    "\n",
    "print(df['Genre'].unique())\n",
    "print(df['Platform'].unique())\n",
    "print(df[\"Rating\"].unique())"
   ]
  },
  {
   "cell_type": "code",
   "execution_count": 6,
   "metadata": {},
   "outputs": [
    {
     "data": {
      "text/plain": [
       "index                0\n",
       "Name                 0\n",
       "Platform             0\n",
       "Year_of_Release    130\n",
       "Genre                0\n",
       "Publisher            6\n",
       "NA_Sales             0\n",
       "EU_Sales             0\n",
       "JP_Sales             0\n",
       "Other_Sales          0\n",
       "Global_Sales         0\n",
       "User_Score           0\n",
       "User_Count           0\n",
       "Rating              87\n",
       "dtype: int64"
      ]
     },
     "execution_count": 6,
     "metadata": {},
     "output_type": "execute_result"
    }
   ],
   "source": [
    "# Drop Columns Critic_score, Critic_Count\n",
    "\n",
    "df = df.drop(columns=['Critic_Score', 'Critic_Count',\"Developer\"])\n",
    "\n",
    "\n",
    "# Drop rows with missing values in the columns Critic_Score, Critic_Count, User_Count, and Developer\n",
    "\n",
    "df = df.dropna(subset=['User_Count'])\n",
    "\n",
    "df.isnull().sum()"
   ]
  },
  {
   "cell_type": "code",
   "execution_count": 7,
   "metadata": {},
   "outputs": [
    {
     "data": {
      "text/plain": [
       "index              7718\n",
       "Name               4694\n",
       "Platform             17\n",
       "Year_of_Release      25\n",
       "Genre                12\n",
       "Publisher           280\n",
       "NA_Sales            353\n",
       "EU_Sales            275\n",
       "JP_Sales            158\n",
       "Other_Sales         145\n",
       "Global_Sales        545\n",
       "User_Score           95\n",
       "User_Count          888\n",
       "Rating                8\n",
       "dtype: int64"
      ]
     },
     "execution_count": 7,
     "metadata": {},
     "output_type": "execute_result"
    }
   ],
   "source": [
    "df.nunique()"
   ]
  },
  {
   "cell_type": "code",
   "execution_count": 8,
   "metadata": {},
   "outputs": [
    {
     "name": "stdout",
     "output_type": "stream",
     "text": [
      "{'Madden NFL 07': 10, 'LEGO Jurassic World': 9, 'LEGO Star Wars II: The Original Trilogy': 9, 'Need for Speed: Most Wanted': 9, 'LEGO Marvel Super Heroes': 8, 'The LEGO Movie Videogame': 8, 'FIFA 15': 8, 'Harry Potter and the Half-Blood Prince': 8, 'Angry Birds Star Wars': 8, 'FIFA Soccer 13': 8, 'FIFA 14': 8, 'Lego Batman 3: Beyond Gotham': 8, 'Terraria': 8, 'Need for Speed: ProStreet': 7, 'Harry Potter and the Goblet of Fire': 7, 'Need for Speed Carbon': 7, 'LEGO Batman: The Videogame': 7, 'LEGO Batman 2: DC Super Heroes': 7, 'Madden NFL 08': 7, 'Prince of Persia: The Forgotten Sands': 7, 'Iron Man': 7, 'Need For Speed: Undercover': 7, 'Skylanders SWAP Force': 7, 'Ghostbusters: The Video Game': 7, 'FIFA Soccer 10': 7, \"LEGO Marvel's Avengers\": 7, 'LEGO Indiana Jones: The Original Adventures': 7, 'Harry Potter and the Order of the Phoenix': 7, 'Spider-Man 3': 7, 'Tomb Raider: Legend': 7, 'WWE SmackDown vs. Raw 2010': 7, 'The Sims 2': 7, 'FIFA World Cup Germany 2006': 6, 'Watch Dogs': 6, 'Pro Evolution Soccer 2010': 6, 'Crash of the Titans': 6, 'Pro Evolution Soccer 2012': 6, 'The Sims 3': 6, 'Far Cry 4': 6, 'The Sims 2: Pets': 6, \"Assassin's Creed IV: Black Flag\": 6, 'Need for Speed Underground 2': 6, \"Peter Jackson's King Kong: The Official Game of the Movie\": 6, 'Ratatouille': 6, 'Just Dance 2015': 6, 'Michael Jackson: The Experience': 6, \"Harry Potter and the Sorcerer's Stone\": 6, 'pro evolution soccer 2011': 6, 'Rayman Legends': 6, 'Harry Potter and the Chamber of Secrets': 6, 'FIFA Soccer 08': 6, 'Madden NFL 13': 6, 'Cars': 6, 'Star Wars: The Force Unleashed': 6, 'Spider-Man 2': 6, 'LEGO The Lord of the Rings': 6, 'FIFA Soccer 09': 6, 'Juiced 2: Hot Import Nights': 6, 'LEGO Harry Potter: Years 5-7': 6, 'WWE SmackDown vs. Raw 2009': 6, 'Just Dance 2014': 6, 'Madden NFL 09': 6, 'Marvel: Ultimate Alliance': 6, 'Tomb Raider: Underworld': 6, 'Rayman Origins': 6, 'WWE SmackDown vs Raw 2008': 6, 'FIFA Soccer 11': 6, 'WWE All Stars': 6, 'Spider-Man: Web of Shadows': 6, 'LEGO Pirates of the Caribbean: The Video Game': 6, 'The Simpsons Game': 6, 'The Golden Compass': 6, 'Madden NFL 06': 6, 'NBA Live 08': 6, 'Plants vs. Zombies: Garden Warfare': 6, 'Lego Star Wars: The Force Awakens': 6, 'LEGO The Hobbit': 6, 'Wall-E': 6, 'X-Men: The Official Game': 6, 'Star Wars The Clone Wars: Republic Heroes': 6, 'Tiger Woods PGA Tour 2004': 5, 'Fantastic Four: Rise of the Silver Surfer': 5, 'Star Wars: The Force Unleashed II': 5, 'X-Men Legends II: Rise of Apocalypse': 5, 'G-Force': 5, 'Skylanders Giants': 5, 'NBA 2K12': 5, \"Tony Hawk's Proving Ground\": 5, 'Transformers: Devastation': 5, 'Just Dance 2016': 5, 'Thrillville: Off the Rails': 5, \"Skylanders: Spyro's Adventure\": 5, \"Tom Clancy's EndWar\": 5, 'Madden NFL 10': 5, 'The Wolf Among Us': 5, 'F1 2011': 5, 'Marvel: Ultimate Alliance 2': 5, 'Middle-Earth: Shadow of Mordor': 5, 'NBA 2K13': 5, 'Wolfenstein: The New Order': 5, 'Kung Fu Panda': 5, 'The Legend of Spyro: Dawn of the Dragon': 5, 'LEGO Harry Potter: Years 1-4': 5, 'Mortal Kombat: Deadly Alliance': 5, 'Crash: Mind Over Mutant': 5, 'DiRT 2': 5, 'Murdered: Soul Suspect': 5, 'Bakugan: Battle Brawlers': 5, 'Need for Speed Rivals': 5, 'Dragon Age: Inquisition': 5, 'Harry Potter and the Prisoner of Azkaban': 5, 'Need for Speed: The Run': 5, 'NBA 2K10': 5, 'NBA 2K17': 5, 'Resident Evil: Revelations 2': 5, 'Alien: Isolation': 5, 'Major League Baseball 2K9': 5, 'The Evil Within': 5, 'Battlefield: Hardline': 5, 'Skylanders: SuperChargers': 5, 'LEGO Star Wars III: The Clone Wars': 5, 'The Urbz: Sims in the City': 5, 'Harry Potter and the Deathly Hallows - Part 1': 5, 'Mini Ninjas': 5, 'FIFA Street 2': 5, 'Sega Rally Revo': 5, 'The Crew': 5, 'Metal Gear Solid V: Ground Zeroes': 5, 'Spider-Man: Friend or Foe': 5, 'Guitar Hero: Metallica': 5, 'Pro Evolution Soccer 2017': 5, 'Fight Night Round 3': 5, 'Band Hero': 5, 'Grand Theft Auto V': 5, \"Tony Hawk's Project 8\": 5, 'Battlefield 4': 5, 'Metal Gear Solid V: The Phantom Pain': 5, 'Tomb Raider: Anniversary': 5, 'Call of Duty: Advanced Warfare': 5, 'FIFA 17': 5, 'Resident Evil: Revelations': 5, 'Call of Duty: World at War': 5, 'Rock Band 3': 5, 'Back to the Future: The Game': 5, 'Need for Speed Underground': 5, 'Guitar Hero Live': 5, 'Thor: God of Thunder': 5, 'Guitar Hero: World Tour': 5, 'Pro Evolution Soccer 2008': 5, 'Blazing Angels: Squadrons of WWII': 5, \"Tony Hawk's Underground\": 5, 'Ultimate Spider-Man': 5, 'NBA 2K16': 5, \"Pirates of the Caribbean: At World's End\": 5, 'LEGO Dimensions': 5, 'Just Dance 4': 5, 'FIFA 16': 5, 'Pro Evolution Soccer 2016': 5, 'Guitar Hero III: Legends of Rock': 5, 'Resident Evil 6': 5, 'Tiger Woods PGA Tour 06': 5, 'Pro Evolution Soccer 2015': 5, 'The Lord of the Rings: Conquest': 5, 'Call of Duty: Black Ops': 5, \"Tony Hawk's Pro Skater 3\": 5, 'Marvel Nemesis: Rise of the Imperfects': 5, 'Call of Duty: Ghosts': 5, 'NBA Jam': 4, 'Puzzle Quest: Challenge of the Warlords': 4, 'Harry Potter and the Deathly Hallows - Part 2': 4, 'Indiana Jones and the Staff of Kings': 4, 'DJ Hero': 4, 'The Chronicles of Narnia: Prince Caspian': 4, 'Street Fighter X Tekken': 4, 'Disney Infinity': 4, 'Destiny': 4, 'From Russia With Love': 4, 'Skylanders: Trap Team': 4, 'Sonic Generations': 4, \"Assassin's Creed III\": 4, 'Major League Baseball 2K8': 4, 'Monopoly': 4, 'Guitar Hero 5': 4, 'Guitar Hero: Smash Hits': 4, 'LEGO Star Wars: The Complete Saga': 4, 'Disney Universe': 4, 'Virtua Tennis 3': 4, 'XCOM: Enemy Unknown': 4, 'NHL 2K10': 4, 'DJ Hero 2': 4, 'NBA Live 09': 4, 'Madden NFL 2004': 4, 'Bionicle Heroes': 4, 'Harry Potter: Quidditch World Cup': 4, 'Borderlands: The Pre-Sequel': 4, 'NCAA Football 07': 4, 'Madden NFL 17': 4, 'Medal of Honor: Frontline': 4, 'Teenage Mutant Ninja Turtles: Mutants in Manhattan': 4, 'Sacred 2: Fallen Angel': 4, 'SpongeBob SquarePants: Battle for Bikini Bottom': 4, 'One Piece: Unlimited World Red': 4, 'Tiger Woods PGA Tour 07': 4, 'Tiger Woods PGA Tour 08': 4, 'Charlie and the Chocolate Factory': 4, 'NHL 15': 4, 'Borderlands 2': 4, 'WWE SmackDown vs. Raw 2011': 4, 'Rugby World Cup 2015': 4, 'Turok: Evolution': 4, 'NBA Live 07': 4, 'Gun': 4, 'Guitar Hero: Aerosmith': 4, 'Aliens: Colonial Marines': 4, 'Scarface: The World is Yours': 4, 'NBA 2K9': 4, 'Call of Duty 4: Modern Warfare': 4, 'Just Dance 3': 4, 'Hitman: Blood Money': 4, 'Avatar: The Last Airbender': 4, 'NHL 09': 4, \"Baldur's Gate: Dark Alliance\": 4, 'FIFA Street': 4, 'The BIGS': 4, 'Call of Duty: Black Ops II': 4, 'NHL 07': 4, '2010 FIFA World Cup South Africa': 4, 'SSX On Tour': 4, 'WWE 2K16': 4, 'Call of Duty: Modern Warfare 3': 4, 'Alone in the Dark': 4, 'Pinball Hall of Fame: The Williams Collection': 4, 'NCAA Football 08': 4, 'Crash Tag Team Racing': 4, \"Tom Clancy's Splinter Cell: Double Agent\": 4, 'Dead Rising 2': 4, '007: Quantum of Solace': 4, 'GRID': 4, \"Tom Clancy's Splinter Cell: Pandora Tomorrow\": 4, 'Grand Theft Auto: San Andreas': 4, 'Plants vs. Zombies': 4, 'Fallout 4': 4, 'Dragon Ball: XenoVerse': 4, \"Tom Clancy's Splinter Cell: Chaos Theory\": 4, 'Spider-Man: Shattered Dimensions': 4, 'NBA 2K7': 4, 'Rayman Raving Rabbids': 4, 'Dragon Age II': 4, 'LEGO Indiana Jones 2: The Adventure Continues': 4, 'Virtua Tennis 4': 4, 'Deadpool': 4, 'Battlefield 3': 4, 'Batman Begins': 4, 'TMNT': 4, 'WWE 2K15': 4, 'The Adventures of Tintin: The Game': 4, 'Mafia III': 4, 'Destiny: The Taken King': 4, 'The Walking Dead: Survival Instinct': 4, 'Spider-Man: Edge of Time': 4, \"Lemony Snicket's A Series of Unfortunate Events\": 4, 'FIFA Soccer 2004': 4, 'Star Wars: Battlefront II': 4, 'NBA 2K14': 4, 'The Simpsons: Road Rage': 4, 'Rock Band': 4, 'NBA 2K15': 4, 'Wolfenstein': 4, 'Teenage Mutant Ninja Turtles': 4, 'NPPL: Championship Paintball 2009': 4, \"Tony Hawk's Pro Skater 4\": 4, 'Monster Jam': 4, 'FIFA Soccer 2005': 4, 'Sniper Elite 3': 4, 'MotoGP': 4, 'Madden NFL 2005': 4, 'Angry Birds Trilogy': 4, 'Tony Hawk: RIDE': 4, 'James Bond 007: Everything or Nothing': 4, 'Batman: Arkham Origins': 4, 'Fight Night Round 2': 4, 'Madden NFL 25': 4, 'Prince of Persia: The Sands of Time': 4, 'X-Men Origins: Wolverine': 4, 'Need for Speed: Shift': 4, 'Rock Band 2': 4, 'James Bond 007: Nightfire': 4, 'Crysis 3': 4, \"Tom Clancy's Splinter Cell\": 4, 'Captain America: Super Soldier': 4, 'Madden NFL 16': 4, 'Tiger Woods PGA Tour 09': 4, \"Tony Hawk's Pro Skater 5\": 4, 'Sega Superstars Tennis': 4, 'de Blob 2': 4, 'The Lord of the Rings: The Return of the King': 4, 'Max Payne': 4, 'Star Wars Episode III: Revenge of the Sith': 4, 'Ride': 4, 'X-Men: Destiny': 4, 'Medal of Honor': 4, 'GoldenEye: Rogue Agent': 4, 'Need for Speed: Hot Pursuit': 4, 'Tiger Woods PGA Tour 12: The Masters': 4, \"X2: Wolverine's Revenge\": 4, 'The Sims': 4, 'The Chronicles of Narnia: The Lion, The Witch and The Wardrobe': 4, 'FIFA Soccer 2003': 4, 'Call of Duty 3': 4, 'G.I. Joe: The Rise of Cobra': 4, 'Madden NFL 11': 4, 'Ben 10: Alien Force': 4, 'FIFA Soccer 2002': 4, 'The Sims 2: Castaway': 4, 'Winning Eleven: Pro Evolution Soccer 2007': 4, 'Evolve': 4, 'BlazBlue: Chrono Phantasma Extend': 4, 'LEGO Rock Band': 4, 'NBA 2K11': 4, 'Darksiders II': 4, \"Tom Clancy's Splinter Cell: Blacklist\": 4, 'Test Drive Unlimited 2': 4, 'Robotech: Battlecry': 4, 'Shadow The Hedgehog': 4, \"Tony Hawk's American Wasteland\": 4, 'Crash Nitro Kart': 4, 'IL-2 Sturmovik: Birds of Prey': 4, 'Driver: San Francisco': 4, 'Madden NFL 15': 4, \"Tom Clancy's Ghost Recon\": 4, 'Sonic Unleashed': 4, 'Rayman 3: Hoodlum Havoc': 4, 'MX vs. ATV Untamed': 4, 'Jak and Daxter: The Lost Frontier': 3, 'Burnout': 3, 'Legacy of Kain: Defiance': 3, 'NBA Live 06': 3, 'Scribblenauts: Unlimited': 3, 'Wet': 3, 'The Incredible Hulk: Ultimate Destruction': 3, 'The Hobbit': 3, 'Top Spin 4': 3, 'Ty the Tasmanian Tiger 2: Bush Rescue': 3, 'Stuntman: Ignition': 3, 'Blur': 3, 'Over the Hedge': 3, 'Two Worlds II': 3, 'NBA Live 10': 3, 'NASCAR 09': 3, \"Backyard Wrestling: Don't Try This at Home\": 3, 'Split/Second': 3, 'Dynasty Warriors 6': 3, 'World of Zoo': 3, 'MySims Racing': 3, 'Vanquish': 3, 'Mafia': 3, 'Dragon Ball Z: Ultimate Tenkaichi': 3, 'Tony Hawk: Shred': 3, 'F1 2015': 3, 'NHL 13': 3, 'TimeSplitters 2': 3, 'MLB 08: The Show': 3, 'Turok': 3, 'The Warriors': 3, \"Spyro: A Hero's Tail\": 3, 'James Bond 007: Blood Stone': 3, 'Alice: Madness Returns': 3, 'Spec Ops: The Line': 3, 'F.E.A.R. 2: Project Origin': 3, 'Top Spin 3': 3, 'The Lord of the Rings: The Third Age': 3, 'Up': 3, 'MLB 14: The Show': 3, 'Tak 2: The Staff of Dreams': 3, 'XIII': 3, 'MLB 11: The Show': 3, 'Metal Gear Solid 2: Substance': 3, 'Doom 3 BFG Edition': 3, 'Samurai Warriors 2': 3, 'Defiance': 3, 'Condemned 2: Bloodshot': 3, 'BlazBlue: Calamity Trigger': 3, 'NHL 16': 3, 'Okami': 3, \"Tom Clancy's HAWX\": 3, 'Payday 2': 3, 'NHL 06': 3, 'Lost: Via Domus': 3, 'Prince of Persia: The Two Thrones': 3, 'Viewtiful Joe': 3, 'Warhammer 40,000: Space Marine': 3, 'Dishonored 2': 3, 'Monopoly Streets': 3, 'Unreal Tournament III': 3, 'MLB 09: The Show': 3, '2014 FIFA World Cup Brazil': 3, 'NieR': 3, 'Manhunt 2': 3, 'Bolt': 3, 'NASCAR 06: Total Team Control': 3, 'WWE 2K17': 3, 'Battlefield 2: Modern Combat': 3, 'Warriors Orochi 3': 3, \"Cabela's Big Game Hunter 2005 Adventures\": 3, '2002 FIFA World Cup': 3, 'Cars: Mater-National Championship': 3, 'Silent Hill: Shattered Memories': 3, 'Mega Man Anniversary Collection': 3, 'Dead or Alive 5': 3, 'The Darkness II': 3, 'Lords of the Fallen': 3, 'The Cursed Crusade': 3, 'NHL 2K3': 3, 'Lost Planet 3': 3, 'Pitfall: The Lost Expedition': 3, 'WRC: FIA World Rally Championship': 3, 'Odin Sphere: Leifthrasir': 3, 'Apache: Air Assault': 3, 'Gladius': 3, \"Cabela's Survival: Shadows of Katmai\": 3, 'Castlevania: Lords of Shadow 2': 3, 'Sniper Elite': 3, 'Conflict: Denied Ops': 3, 'NHL Hitz Pro': 3, 'Dynasty Warriors 8: Empires': 3, 'Shaun White Skateboarding': 3, 'Buffy the Vampire Slayer: Chaos Bleeds': 3, 'CSI: Fatal Conspiracy': 3, 'GRID Autosport': 3, 'NHL 2K9': 3, 'Stormrise': 3, 'Hellboy: The Science of Evil': 3, 'Catwoman': 3, \"You Don't Know Jack\": 3, 'Pac-Man World 3': 3, 'Risen 2: Dark Waters': 3, 'Samurai Warriors 4': 3, 'NASCAR 08': 3, \"Surf's Up\": 3, 'Driver: Parallel Lines': 3, 'NHL Hitz 20-03': 3, 'Ice Age: Dawn of the Dinosaurs': 3, 'Rock Revolution': 3, 'Jurassic Park: Operation Genesis': 3, 'AC/DC LIVE: Rock Band Track Pack': 3, 'NBA 07': 3, 'Battleborn': 3, 'Spartan: Total Warrior': 3, 'Legendary': 3, 'Game of Thrones': 3, 'College Hoops 2K6': 3, \"Hunted: The Demon's Forge\": 3, 'The Bureau: XCOM Declassified': 3, 'Vexx': 3, 'TimeSplitters: Future Perfect': 3, 'The Testament of Sherlock Holmes': 3, 'XCOM 2': 3, 'Bladestorm: Nightmare': 3, 'Ridge Racer Unbounded': 3, 'Freedom Fighters': 3, 'Green Lantern: Rise of the Manhunters': 3, 'Digimon Rumble Arena 2': 3, 'Risen 3: Titan Lords': 3, \"Jumper: Griffin's Story\": 3, \"Assassin's Creed Chronicles\": 3, 'TOCA Race Driver 3': 3, 'Guilty Gear XX Accent Core Plus': 3, 'PAC-MAN and the Ghostly Adventures': 3, 'Song of the Deep': 3, 'Valentino Rossi: The Game': 3, 'Inversion': 3, 'RedCard 20-03': 3, 'XGRA: Extreme G Racing Association': 3, 'DuckTales: Remastered': 3, 'The Technomancer': 3, 'Secret Files: Tunguska': 3, 'Mighty No. 9': 3, 'Ride 2': 3, 'Prison Architect': 3, 'Turbo: Super Stunt Squad': 3, 'Rugby League Live 3': 3, 'Ben 10 Omniverse 2': 3, 'Young Justice: Legacy': 3, 'Tornado Outbreak': 3, 'Natural Doctrine': 3, 'Shovel Knight': 3, 'Create': 3, 'Digimon World 4': 3, 'Super Monkey Ball Adventure': 3, 'Indigo Prophecy': 3, \"Disney's Donald Duck: Goin' Quackers\": 3, 'BMX XXX': 3, 'Second Sight': 3, 'Bejeweled 3': 3, 'Metal Slug Anthology': 3, 'Just Cause': 3, 'The Crew: Wild Run': 3, 'Venetica': 3, 'Final Fantasy XIV: Heavensward': 3, 'Worms 3D': 3, 'The Smurfs 2': 3, \"JASF: Jane's Advanced Strike Fighters\": 3, 'The History Channel: Battle for the Pacific': 3, 'Cloudy With a Chance of Meatballs': 3, 'Pac-Man and the Ghostly Adventures 2': 3, 'Sacred 3': 3, 'Warriors Orochi 2': 3, 'Call of Juarez: The Cartel': 3, 'Shrek Super Party': 3, 'The BIGS 2': 3, 'Spawn: Armageddon': 3, 'Transformers: Fall of Cybertron': 3, 'Ben 10 Alien Force: Vilgax Attacks': 3, 'Bionicle': 3, 'Mass Effect Trilogy': 3, 'Alpha Protocol': 3, 'Wolfenstein: The Old Blood': 3, 'The Legend of Spyro: The Eternal Night': 3, 'NHL 2K6': 3, 'All-Star Baseball 2004': 3, 'Trials Fusion': 3, 'How to Train Your Dragon': 3, 'Metro: Last Light': 3, 'BloodRayne': 3, 'TRON: Evolution': 3, \"Tom Clancy's Rainbow Six: Lockdown\": 3, 'TimeShift': 3, \"Tom Clancy's HAWX 2\": 3, 'Green Day: Rock Band': 3, 'F1 2014': 3, 'Ed, Edd n Eddy: The Mis-Edventures': 3, 'Van Helsing': 3, 'Teenage Mutant Ninja Turtles 2: Battle Nexus': 3, 'Major League Baseball 2K6': 3, 'Plants vs. Zombies: Garden Warfare 2': 3, 'Epic Mickey 2: The Power of Two': 3, 'The Saboteur': 3, 'Test Drive Unlimited': 3, 'R.U.S.E.': 3, 'Major League Baseball 2K12': 3, 'Shrek SuperSlam': 3, 'Fantastic 4': 3, 'Dynasty Warriors: Gundam 2': 3, 'SpongeBob SquarePants: Creature from the Krusty Krab': 3, 'Shrek the Third': 3, 'F.E.A.R. 3': 3, \"Pirates of the Caribbean: Dead Man's Chest\": 3, 'One Piece: Pirate Warriors 3': 3, 'Dragon Ball Z: Sagas': 3, 'NHL 2005': 3, 'Karaoke Revolution Presents American Idol Encore': 3, 'Dynasty Warriors: Strikeforce': 3, 'Enemy Territory: Quake Wars': 3, 'Major League Baseball 2K11': 3, 'Red Faction: Armageddon': 3, 'Beowulf: The Game': 3, 'Life is Strange': 3, 'Rampage: Total Destruction': 3, 'Happy Feet': 3, 'Dead Rising 2: Off the Record': 3, 'Overlord II': 3, 'Operation Flashpoint: Red River': 3, 'Singularity': 3, \"Disney's Extreme Skate Adventure\": 3, \"Clive Barker's Jericho\": 3, 'F1 Race Stars': 3, 'Fuel': 3, 'Tropico 5': 3, \"Cabela's Outdoor Adventures (2009)\": 3, 'Sniper: Ghost Warrior 2': 3, 'Dragon Ball Z: Battle of Z': 3, 'Monsters vs. Aliens': 3, 'NASCAR 2011: The Game': 3, \"Fist of the North Star: Ken's Rage 2\": 3, 'Guitar Hero: Van Halen': 3, 'Front Mission Evolved': 3, 'Ultimate Marvel vs. Capcom 3': 3, 'The Chronicles of Riddick: Assault on Dark Athena': 3, 'Heroes of the Pacific': 3, 'Remember Me': 3, 'Bee Movie Game': 3, 'I-Ninja': 3, 'GRID 2': 3, 'Iron Man 2': 3, 'Dungeon Siege III': 3, 'Looney Tunes: Acme Arsenal': 3, 'Deus Ex: Mankind Divided': 3, 'The Incredible Hulk': 3, 'Dawn of Discovery': 3, 'Virtua Tennis 2009': 3, 'Madagascar: Escape 2 Africa': 3, \"Cabela's Dangerous Hunts 2009\": 3, 'Rocket League': 3, 'TrackMania Turbo': 3, 'DiRT Rally': 3, 'SAW': 3, 'Batman: Rise of Sin Tzu': 3, 'Dark Void': 3, 'Homefront: The Revolution': 3, 'One Piece: Burning Blood': 3, 'Aggressive Inline': 3, \"Mirror's Edge Catalyst\": 3, 'Metal Arms: Glitch in the System': 3, 'Titanfall 2': 3, 'NHL Hitz 20-02': 3, 'Hulk': 3, 'BioShock Infinite': 3, 'Medal of Honor: Rising Sun': 3, 'Mass Effect 2': 3, 'The Orange Box': 3, 'Project CARS': 3, 'Enter the Matrix': 3, 'True Crime: Streets of LA': 3, 'Far Cry 3': 3, 'The SpongeBob SquarePants Movie': 3, 'Rocksmith': 3, \"Assassin's Creed Syndicate\": 3, 'Resident Evil 5': 3, 'Just Cause 2': 3, 'Borderlands': 3, 'SSX Tricky': 3, 'Tak and the Power of Juju': 3, 'Fallout 3': 3, 'Bad Boys: Miami Takedown': 3, 'The Lord of the Rings: The Two Towers': 3, 'The Beatles: Rock Band': 3, 'Gauntlet: Dark Legacy': 3, 'Battlefield: Bad Company 2': 3, 'Deal or No Deal': 3, 'Sniper: Ghost Warrior': 3, \"Cabela's Big Game Hunter 2010\": 3, 'Sonic the Hedgehog': 3, \"Mirror's Edge\": 3, 'SSX 3': 3, \"Assassin's Creed: Brotherhood\": 3, 'NCAA Football 2004': 3, \"Dante's Inferno\": 3, 'Diablo III': 3, 'Max Payne 3': 3, 'NBA Live 2002': 3, 'X-Men Legends': 3, 'Titanfall': 3, 'Hitman 2: Silent Assassin': 3, 'Bulletstorm': 3, \"Tom Clancy's Ghost Recon Advanced Warfighter 2\": 3, 'LittleBigPlanet 3': 3, \"Assassin's Creed II\": 3, 'Sonic Heroes': 3, 'Mortal Kombat: Deception': 3, 'Brink': 3, 'Saints Row 2': 3, 'Mass Effect 3': 3, 'Shrek 2': 3, 'F1 2012': 3, 'Just Cause 3': 3, 'Sleeping Dogs': 3, 'Madden NFL 2002': 3, 'DiRT': 3, 'DiRT 3': 3, 'Mercenaries 2: World in Flames': 3, 'Darksiders': 3, 'Aliens vs Predator': 3, 'Tiger Woods PGA Tour 2005': 3, 'NBA Street V3': 3, 'Batman: Arkham City': 3, 'Bully: Scholarship Edition': 3, 'Crash Bandicoot: The Wrath of Cortex': 3, 'Tiger Woods PGA Tour 10': 3, 'Resident Evil: Operation Raccoon City': 3, 'Ty the Tasmanian Tiger': 3, 'SSX': 3, 'Dead to Rights': 3, 'F1 2010': 3, 'MySims': 3, 'Pro Evolution Soccer 2013': 3, 'FIFA Soccer 06': 3, 'Street Fighter IV': 3, \"Tom Clancy's The Division\": 3, 'Madden NFL 2003': 3, 'Battlefield 1': 3, 'Crysis 2': 3, 'Pac-Man World 2': 3, 'Dead Space 2': 3, 'Red Faction II': 3, \"WWE '13\": 3, \"Tom Clancy's Ghost Recon 2\": 3, 'Lost Planet: Extreme Condition': 3, 'Deus Ex: Human Revolution': 3, 'Dave Mirra Freestyle BMX 2': 3, 'Rise of the Tomb Raider': 3, 'Injustice: Gods Among Us': 3, 'Batman: Arkham Knight': 3, 'Fallout: New Vegas': 3, \"Assassin's Creed: Unity\": 3, 'Medal of Honor: Warfighter': 3, 'UFC Undisputed 2010': 3, \"Tom Clancy's Ghost Recon: Future Soldier\": 3, 'NFL Street': 3, 'Homefront': 3, 'NCAA Football 2003': 3, 'Mafia II': 3, \"Assassin's Creed: Revelations\": 3, 'SpongeBob SquarePants: Revenge of the Flying Dutchman': 3, \"WWE '12\": 3, 'Saints Row IV': 3, 'NBA Live 2003': 3, 'Medal of Honor: Airborne': 3, 'Dark Souls III': 3, 'NBA 2K2': 3, 'Tiger Woods PGA Tour 2003': 3, 'Prince of Persia: Warrior Within': 3, 'Ben 10: Protector of Earth': 3, 'Driv3r': 3, 'NCAA Football 2005': 3, 'Spider-Man: The Movie': 3, 'EA Sports Active 2': 3, 'James Bond 007: Agent Under Fire': 3, 'Dark Souls II': 3, 'Batman: Arkham Asylum': 3, 'Rage': 3, 'Call of Duty: Infinite Warfare': 3, \"Assassin's Creed: Rogue\": 3, 'The Elder Scrolls IV: Oblivion': 3, 'Far Cry 2': 3, 'Star Wars: Battlefront': 3, 'Resident Evil 4': 3, 'MVP Baseball 2004': 3, 'Devil May Cry 4': 3, 'NBA Live 2005': 3, 'Conflict: Desert Storm': 3, \"Tom Clancy's Rainbow Six 3\": 3, 'Max Payne 2: The Fall of Max Payne': 3, 'Dead Space 3': 3, 'The Witcher 3: Wild Hunt': 3, 'Blitz: The League': 3, '[Prototype 2]': 3, 'Dead Rising': 3, 'Mortal Kombat X': 3, 'Sonic Riders': 3, \"Tony Hawk's Underground 2\": 3, \"Sid Meier's Civilization Revolution\": 3, 'Madden NFL 12': 3, 'The Legend of Zelda: Twilight Princess': 3, 'Call Of Duty 2: Big Red One': 3, 'South Park: The Stick of Truth': 3, 'MLB 15: The Show': 3, 'Grand Theft Auto IV': 3, 'Shaun White Snowboarding': 3, \"Brothers in Arms: Hell's Highway\": 3, 'Dragon Ball: Raging Blast 2': 3, 'Portal 2': 3, 'Operation Flashpoint: Dragon Rising': 3, 'MLB 07: The Show': 3, 'Dead Island': 3, 'SoulCalibur II': 3, 'MLB SlugFest 20-03': 3, 'Dying Light': 3, 'Tiger Woods PGA Tour 11': 3, 'Far Cry: Primal': 3, 'NBA 2K8': 3, 'Tekken 6': 3, 'The Elder Scrolls V: Skyrim': 3, 'Red Faction: Guerrilla': 3, 'Kingdoms of Amalur: Reckoning': 3, 'Burnout 2: Point of Impact': 3, 'The Lord of the Rings: War in the North': 3, 'Big Mutha Truckers': 3, \"Tom Clancy's Rainbow Six: Siege\": 3, 'Need for Speed: Hot Pursuit 2': 3, 'NBA 2K6': 3, 'Call of Juarez: Bound in Blood': 3, 'BioShock 2': 3, 'Saints Row: The Third': 3, 'Duke Nukem Forever': 3, 'Overwatch': 3, 'Burnout Revenge': 3, 'Hitman: Absolution': 3, 'NBA Live 2004': 3, 'Half-Life 2': 3, 'NBA Street Vol. 2': 3, 'Dead Island: Riptide': 3, 'WWE SmackDown vs. RAW 2007': 3, 'NHL 2004': 3, 'All-Star Baseball 2003': 3, 'Dragon Age: Origins': 3, 'NHL 2001': 3, 'Farming Simulator 2013': 3, 'Call of Duty: Finest Hour': 3, 'Guitar Hero: Warriors of Rock': 3, \"The Sims: Bustin' Out\": 3, \"Tom Clancy's Rainbow Six: Vegas\": 3, 'Mortal Kombat': 3, 'Call of Duty: Modern Warfare 2': 3, 'Sniper Elite V2': 3, \"Tom Clancy's Rainbow Six: Vegas 2\": 3, 'Warriors Orochi': 3, 'Dead Space': 3, 'BioShock': 3, 'Army of Two: The 40th Day': 3, 'Pro Evolution Soccer 2014': 3, 'NHL 2003': 3, 'NBA Starting Five': 2, 'Armored Core 4': 2, 'SBK Superbike World Championship': 2, 'Taz Wanted': 2, 'MindJack': 2, 'Midnight Club 3: DUB Edition': 2, 'Final Fantasy XIII-2': 2, 'Jeremy McGrath Supercross World': 2, 'The Legend of Heroes: Trails of Cold Steel': 2, \"Britney's Dance Beat\": 2, 'Test Drive: Eve of Destruction': 2, \"Army Men: Sarge's Heroes 2\": 2, 'NBA Live 16': 2, 'Skate 3': 2, 'NCAA College Basketball 2K3': 2, 'Dengeki Bunko Fighting Climax': 2, 'Leisure Suit Larry: Box Office Bust': 2, 'God of War Collection': 2, 'College Hoops 2K8': 2, 'Splatterhouse': 2, 'Wakeboarding Unleashed Featuring Shaun Murray': 2, 'The King of Fighters XII': 2, 'ESPN NHL Hockey': 2, 'DiRT Showdown': 2, 'Fairytale Fights': 2, 'Midnight Club: Street Racing': 2, 'Blood Bowl': 2, 'The Suffering: Ties That Bind': 2, 'NBA Live 15': 2, 'Bomberman Land': 2, \"Tony Hawk's Downhill Jam\": 2, 'Digimon Story: Cyber Sleuth': 2, 'Terminator 3: The Redemption': 2, 'Burnout 3: Takedown': 2, 'NBA Live 14': 2, 'Mega Man X Collection': 2, 'World Soccer Winning Eleven 8 International': 2, 'Conception II: Children of the Seven Stars': 2, \"James Cameron's Dark Angel\": 2, 'NBA 09: The Inside': 2, 'Monster Jam: Path of Destruction': 2, 'Teenage Mutant Ninja Turtles: Danger of the Ooze': 2, 'Pure Futbol': 2, \"NASCAR '14\": 2, 'RoadKill': 2, 'Afro Samurai': 2, 'How to Train Your Dragon 2': 2, 'World Destruction League: Thunder Tanks': 2, 'Goblin Commander: Unleash the Horde': 2, 'Divinity II: Ego Draconis': 2, 'Ben 10 Ultimate Alien: Cosmic Destruction': 2, 'ESPN NFL 2K5': 2, 'Birds of Steel': 2, 'Rapala Fishing Frenzy 2009': 2, \"Tony Hawk's American Sk8land\": 2, 'Super Monkey Ball Deluxe': 2, 'Tiger Woods PGA Tour': 2, 'Commandos 2: Men of Courage': 2, '50 Cent: Blood on the Sand': 2, 'Earth Defense Force: Insect Armageddon': 2, 'Forgotten Realms: Demon Stone': 2, 'World Poker Tour': 2, \"The Bard's Tale\": 2, 'College Hoops 2K7': 2, \"Crash 'N' Burn\": 2, 'The Dukes of Hazzard: Return of the General Lee': 2, 'Soldier of Fortune: Payback': 2, 'Playboy: The Mansion': 2, 'Predator: Concrete Jungle': 2, 'Tropico 3': 2, 'Dragon Ball Z: Budokai': 2, 'Viewtiful Joe 2': 2, 'Big Mutha Truckers 2': 2, 'L.A. Noire': 2, 'MotoGP 09/10': 2, 'Finding Nemo': 2, 'Record of Agarest War': 2, 'SBK X: Superbike World Championship': 2, 'Mace Griffin: Bounty Hunter': 2, 'Teenage Mutant Ninja Turtles 3: Mutant Nightmare': 2, 'The Last Airbender': 2, 'Mega Man Legacy Collection': 2, 'Tenchu: Shadow Assassins': 2, 'Sonic Mega Collection Plus': 2, \"Assassin's Creed The Ezio Collection\": 2, 'Project: Snowblind': 2, 'Anarchy Reigns': 2, 'The Bible Game': 2, 'The King of Fighters Collection: The Orochi Saga': 2, \"Disney's Planes\": 2, 'Zombie Army Trilogy': 2, 'Hitman: HD Trilogy': 2, 'Enchanted Arms': 2, 'Dead to Rights II': 2, 'Dragon Ball Z: Budokai Tenkaichi 3': 2, 'Baja: Edge of Control': 2, 'Shadow of Destiny': 2, 'NBA Street': 2, 'Aliens versus Predator: Extinction': 2, 'Left 4 Dead': 2, 'Rune Factory: Tides of Destiny': 2, 'Toukiden Kiwami': 2, 'NFL Blitz Pro': 2, 'Hannah Montana: The Movie': 2, 'Heavy Fire: Afghanistan': 2, 'Star Trek: Legacy': 2, 'Mass Effect': 2, 'Vietcong: Purple Haze': 2, 'The Italian Job': 2, 'Syndicate': 2, 'Call of Juarez': 2, \"Saint Seiya: Soldiers' Soul\": 2, 'Grand Slam Tennis 2': 2, 'Backbreaker': 2, 'MotoGP 14 ': 2, \"The Lord of the Rings: Aragorn's Quest\": 2, 'Mega Man X: Command Mission': 2, 'Senran Kagura: Estival Versus': 2, 'Fight Club': 2, 'Rango: The Video Game': 2, 'Shrek: Forever After': 2, 'The Polar Express': 2, 'Whirl Tour': 2, 'Quantum Theory': 2, 'God Eater Resurrection': 2, 'FaceBreaker': 2, 'Conflict: Global Terror': 2, 'Phantasy Star Universe': 2, 'Armored Core: For Answer': 2, 'Justice League Heroes': 2, 'The Legend of Heroes: Trails of Cold Steel II': 2, 'Risen': 2, 'Jurassic: The Hunted': 2, 'Ty the Tasmanian Tiger 3: Night of the Quinkan': 2, 'Samurai Warriors 2: Empires': 2, 'Arcania: Gothic 4': 2, 'NBA Ballers: Chosen One': 2, 'Killer is Dead': 2, 'Sword Art Online: Hollow Realization': 2, \"Cabela's Deer Hunt: 2004 Season\": 2, 'Brothers: A Tale of Two Sons': 2, 'Eragon': 2, 'Zero Escape: Zero Time Dilemma': 2, 'Futurama': 2, 'Escape Dead Island': 2, 'Toy Soldiers: War Chest': 2, 'Wrath Unleashed': 2, 'Alvin and the Chipmunks': 2, 'TMNT: Mutant Melee': 2, 'Serious Sam: Next Encounter': 2, 'Port Royale 3': 2, 'Grand Kingdom': 2, 'Child of Light': 2, 'Tokyo Twilight Ghost Hunters': 2, 'Super Smash Bros. Melee': 2, 'N+': 2, 'Obscure': 2, 'Sega Soccer Slam': 2, 'Mario Kart 8': 2, 'Fallout: Brotherhood of Steel': 2, \"Broken Sword 5: The Serpent's Curse\": 2, \"Cabela's Trophy Bucks\": 2, 'Crash Bandicoot 3: Warped': 2, 'Mario vs. Donkey Kong: Tipping Stars': 2, 'Assetto Corsa': 2, 'Unchained Blades ': 2, 'MX vs. ATV Supercross': 2, 'Muppets Party Cruise': 2, 'Grand Ages: Medieval': 2, 'Samurai Warriors Chronicles 3': 2, 'FlatOut 2': 2, 'Gears of War 2': 2, 'Rugby 2005': 2, 'SpongeBob: HeroPants': 2, 'Mystic Heroes': 2, 'Arslan: The Warriors of Legend': 2, 'Damnation': 2, 'Supreme Commander': 2, 'Viewtiful Joe: Red Hot Rumble': 2, 'Knights in the Nightmare': 2, \"Assassin's Creed\": 2, 'ShellShock 2: Blood Trails': 2, 'Resident Evil 2': 2, 'Lara Croft and the Temple of Osiris': 2, 'LittleBigPlanet': 2, 'Gears of War': 2, 'The Golf Club': 2, 'Pac-Man World Rally': 2, 'Knights Contract': 2, 'Adventure Time: The Secret of the Nameless Kingdom': 2, 'Halo: Combat Evolved': 2, 'Line Rider 2: Unbound': 2, 'Lost Dimension': 2, 'MLB Front Office Manager': 2, 'Red Dead Redemption': 2, 'World Series of Poker 2008: Battle for the Bracelets': 2, 'Alien Syndrome': 2, 'Tekken 3': 2, 'Just Dance': 2, 'Serious Sam II': 2, 'Star Trek: Tactical Assault': 2, 'Headhunter: Redemption': 2, \"Greg Hastings' Tournament Paintball Max'd\": 2, 'Without Warning': 2, 'Napoleon Dynamite: The Game': 2, 'XBLAZE Code: Embryo': 2, \"Cabela's Big Game Hunter: Pro Hunts\": 2, 'Worms: WMD': 2, 'Syberia II': 2, \"The Peanuts Movie: Snoopy's Grand Adventure\": 2, 'Aegis of Earth: Protonovus Assault': 2, \"Agatha Christie's The ABC Murders\": 2, 'Judge Dredd: Dredd Vs Death': 2, 'Legend of Kay Anniversary': 2, 'Grand Theft Auto III': 2, 'Worms': 2, 'Xblaze: Lost Memories': 2, 'Carmageddon: Max Damage': 2, 'Darksiders: Warmastered Edition': 2, 'Grand Theft Auto: Vice City': 2, 'Prototype: Biohazard Bundle': 2, 'Virtua Quest': 2, 'Mark McMorris Infinite Air': 2, 'Aquaman: Battle for Atlantis': 2, \"Sherlock Holmes: The Devil's Daughter\": 2, 'Bookworm Deluxe': 2, 'Antz Extreme Racing': 2, 'Psycho-Pass: Mandatory Happiness': 2, 'Aeon Flux': 2, 'Halo 2': 2, 'The Fast and the Furious': 2, 'Exist Archive: The Other Side of the Sky': 2, 'Urban Chaos: Riot Response': 2, 'Ivy the Kiwi?': 2, 'Top Gun: Hard Lock': 2, 'Grand Theft Auto: Liberty City Stories': 2, 'Pump It Up: Exceed': 2, 'Ride to Hell': 2, 'Hail to the Chimp': 2, 'Final Fight: Streetwise': 2, 'Enemy Front': 2, \"SpongeBob SquarePants: Plankton's Robotic Revenge\": 2, 'Rugby Challenge 3': 2, 'OutRun 2006: Coast 2 Coast': 2, 'Saints Row: Gat out of Hell': 2, 'NASCAR Heat Evolution': 2, 'The Lord of the Rings: The Battle for Middle-Earth II': 2, 'Colin McRae Rally 2005': 2, 'Root Letter': 2, 'Sébastien Loeb Rally Evo': 2, 'Guilty Gear XX Accent Core': 2, \"Grey's Anatomy: The Video Game\": 2, 'Rogue Trooper': 2, 'Red Ninja: End of Honor': 2, 'Yaiba: Ninja Gaiden Z': 2, 'Digimon All-Star Rumble': 2, \"Jimmie Johnson's Anything With an Engine\": 2, 'Supremacy MMA': 2, '7 Days to Die': 2, 'Dead Island Definitive Collection': 2, 'UEFA Euro 2004: Portugal': 2, 'NCIS': 2, 'Persona 4: Arena Ultimax': 2, 'Legends of Wrestling': 2, 'The Guy Game': 2, 'Rogue Warrior': 2, 'Ys: The Ark of Napishtim': 2, 'NBA 08': 2, \"Shrek Smash n' Crash Racing\": 2, 'BlazBlue: Continuum Shift II': 2, 'Deception IV: Blood Ties': 2, 'Eat Lead: The Return of Matt Hazard': 2, 'Dokapon Kingdom': 2, 'Baroque': 2, 'NeverDead': 2, 'NHL 2K7': 2, 'Obscure: The Aftermath': 2, 'Record of Agarest War Zero': 2, 'Star Trek: Conquest': 2, 'Ferrari Challenge Trofeo Pirelli': 2, 'Don Bradman Cricket 14': 2, 'Zathura': 2, 'Atelier Sophie: The Alchemist of the Mysterious Book': 2, 'X-Blades': 2, 'Namco Museum': 2, 'Power Gig: Rise of the SixString': 2, 'Megamind: Ultimate Showdown': 2, 'Heroes over Europe': 2, 'Putty Squad': 2, 'Chessmaster: The Art of Learning': 2, 'Fantasia: Music Evolved': 2, 'Bomberman': 2, 'Left 4 Dead 2': 2, 'Blitz: The League II': 2, 'MLB Power Pros 2008': 2, 'Killer7': 2, 'Carnival Games': 2, 'F1 2001': 2, 'Space Invaders Extreme': 2, 'Sphinx and the Cursed Mummy': 2, 'World Soccer Winning Eleven 9': 2, '187: Ride or Die': 2, 'Blazing Angels 2: Secret Missions of WWII': 2, 'Half-Life': 2, 'Fatal Frame': 2, 'Geometry Wars: Galaxies': 2, 'MTV Music Generator 3: This Is the Remix': 2, 'Doom': 2, 'NFL Head Coach 09': 2, 'Skylanders Imaginators': 2, 'The Da Vinci Code': 2, 'Cel Damage': 2, 'Hatsune Miku: Project Diva X': 2, \"Total Overdose: A Gunslinger's Tale in Mexico\": 2, 'Tomb Raider': 2, 'Fable III': 2, 'Wasteland 2': 2, 'The First Templar': 2, 'Syberia': 2, 'Riviera: The Promised Land': 2, 'Blades of Time': 2, 'NASCAR The Game: Inside Line': 2, 'Colin McRae Rally 04': 2, 'RLH: Run Like Hell': 2, 'Scribblenauts Unmasked: A DC Comics Adventure': 2, 'The Ant Bully': 2, 'Agatha Christie: The ABC Murders': 2, 'Alien Hominid': 2, 'Myst': 2, 'Harvey Birdman: Attorney at Law': 2, 'Steins;Gate': 2, 'Star Trek: Shattered Universe': 2, 'Guitar Hero II': 2, 'Barnyard': 2, 'Speed Kings': 2, 'Final Fantasy XIII': 2, 'Raven Squad: Operation Hidden Dagger': 2, 'Scaler': 2, 'Medal of Honor: Vanguard': 2, 'Steins;Gate 0': 2, 'Lucha Libre AAA: Heroes del Ring': 2, 'FlatOut: Ultimate Carnage': 2, \"Cabela's North American Adventures\": 2, 'Coraline': 2, 'Space Chimps': 2, 'Gladiator: Sword of Vengeance': 2, 'Rodea the Sky Soldier': 2, 'Psychonauts': 2, \"nail'd\": 2, 'Marvel Avengers: Battle for Earth': 2, 'F1 2002': 2, 'NASCAR 07': 2, 'Rugby 15': 2, 'Blood Drive': 2, 'Batman: Dark Tomorrow': 2, 'Cold Fear': 2, 'Blazblue: Continuum Shift Extend': 2, 'Where the Wild Things Are': 2, 'Pimp My Ride': 2, 'Capcom vs. SNK 2 EO': 2, 'Open Season': 2, \"Tony Hawk's Pro Skater 2\": 2, 'Worms Forts: Under Siege': 2, 'Astro Boy: The Video Game': 2, 'Grand Theft Auto: Vice City Stories': 2, 'Bodycount': 2, 'Alias': 2, 'Constantine': 2, 'World Series Baseball 2K3': 2, 'Star Wars Jedi Knight II: Jedi Outcast': 2, 'The Mummy: Tomb of the Dragon Emperor': 2, 'MX vs. ATV: Alive': 2, 'SpongeBob SquarePants featuring Nicktoons: Globs of Doom': 2, 'NCAA Football 13': 2, 'Star Wars: Bounty Hunter': 2, 'NCAA Football 14': 2, 'Tales of Zestiria': 2, 'Arena Football': 2, 'Tales of Symphonia': 2, 'Castlevania: Lords of Shadow': 2, 'NCAA March Madness 07': 2, 'Fight Night Champion': 2, 'ModNation Racers': 2, 'All-Star Baseball 2002': 2, 'Watch Dogs 2': 2, 'Naruto Shippuden: Ultimate Ninja Storm 4': 2, 'Red Dead Redemption: Undead Nightmare': 2, 'ESPN NFL Football': 2, 'Quantum Break': 2, 'WWE 2K14': 2, 'Frontlines: Fuel of War': 2, 'Enslaved: Odyssey to the West': 2, 'Catz': 2, 'Batman: Vengeance': 2, 'Hot Shots Golf: World Invitational': 2, 'Skate 2': 2, 'NASCAR Thunder 2004': 2, 'Blacksite: Area 51': 2, 'Jaws Unleashed': 2, \"Spider-Man: Mysterio's Menace\": 2, 'UFC Undisputed 3': 2, 'Naruto: Ultimate Ninja': 2, 'Pac-Man Party': 2, 'MX vs. ATV Unleashed': 2, 'Wave Race: Blue Storm': 2, 'Yakuza: Dead Souls': 2, 'Dynasty Warriors 8': 2, 'Secret Agent Clank': 2, 'Rayman Arena': 2, 'MVP Baseball 2003': 2, 'Prince of Persia': 2, 'EA Sports UFC': 2, 'NBA 2K3': 2, 'Hot Wheels: Stunt Track Challenge': 2, 'Terminator 3: Rise of the Machines': 2, 'Mortal Kombat: Armageddon': 2, 'Lightning Returns: Final Fantasy XIII': 2, 'NASCAR: Dirt to Daytona': 2, 'FIFA Soccer': 2, 'Skate it': 2, 'Phineas and Ferb: Across the 2nd Dimension': 2, 'Shadow of the Colossus': 2, 'American Idol': 2, 'Final Fantasy IV Advance': 2, 'Sly Cooper: Thieves in Time': 2, 'Way of the Samurai 3': 2, 'SimAnimals': 2, 'Pac-Man Fever': 2, 'DC Universe Online': 2, 'Major League Baseball 2K10': 2, 'Silent Hill 4: The Room': 2, 'Black': 2, 'Looney Tunes: Back in Action': 2, 'Rockstar Games presents Table Tennis': 2, 'Final Fantasy X / X-2 HD Remaster': 2, 'Manhunt': 2, 'Star Wars: Jedi Starfighter': 2, 'The Elder Scrolls Online': 2, 'NBA Street Homecourt': 2, 'EA Playground': 2, '[Prototype]': 2, 'NFL 2K3': 2, 'The Matrix: Path of Neo': 2, 'Sonic Lost World': 2, 'Grand Theft Auto: Chinatown Wars': 2, 'Backyard Baseball': 2, 'Corvette': 2, 'Alan Wake': 2, 'NASCAR Thunder 2003': 2, 'Silent Hill: Origins': 2, 'Naruto Shippuden: Ultimate Ninja Storm 2': 2, 'Midnight Club 3: DUB Edition Remix': 2, 'NHL 14': 2, 'F1 2013': 2, 'Legends of WrestleMania': 2, 'F.E.A.R.': 2, 'Tiger Woods PGA Tour 13': 2, 'Dynasty Warriors: Gundam 3': 2, 'Medal of Honor Heroes 2': 2, 'Metro 2033': 2, 'ESPN NBA Basketball': 2, 'NASCAR Thunder 2002': 2, 'NCAA March Madness 06': 2, 'Bayonetta': 2, \"Cabela's Dangerous Hunts\": 2, 'NCAA March Madness 2005': 2, 'Conflict: Vietnam': 2, \"Dragon's Crown\": 2, 'NBA 06': 2, 'Terminator Salvation': 2, 'Juiced': 2, 'NHL 2002': 2, 'The Lord of the Rings: The Fellowship of the Ring': 2, 'Rory McIlroy PGA Tour': 2, \"Dragon Ball Z: Buu's Fury\": 2, 'Street Fighter Alpha 3': 2, 'Prison Break: The Conspiracy': 2, 'NHL 10': 2, 'Tales of the Abyss': 2, 'Skate': 2, 'Godzilla: Destroy All Monsters Melee': 2, 'Need for Speed: Nitro': 2, 'Dragon Ball: Xenoverse 2': 2, 'NCAA Football 09': 2, 'Kill.Switch': 2, 'Catherine': 2, 'NHL 12': 2, 'Burnout Legends': 2, 'ESPN College Hoops 2K5': 2, 'Mortal Kombat: Shaolin Monks': 2, 'Tekken Tag Tournament 2': 2, 'Dragon Ball Z: Burst Limit': 2, \"Baldur's Gate: Dark Alliance II\": 2, 'Rocky': 2, 'The Last Remnant': 2, 'F1 2009': 2, 'Borderlands: The Handsome Collection': 2, 'Star Wars: Republic Commando': 2, 'ESPN NHL 2K5': 2, 'MX vs. ATV Reflex': 2, 'The Darkness': 2, 'MLB 10: The Show': 2, 'Stranglehold': 2, 'Devil May Cry HD Collection': 2, 'MLB 13: The Show': 2, 'Dragon Ball: Raging Blast': 2, 'Drawn to Life: The Next Chapter': 2, 'SoulCalibur V': 2, 'Shark Tale': 2, 'Worms: Open Warfare': 2, 'MVP 06 NCAA Baseball': 2, 'UFC Personal Trainer: The Ultimate Fitness System': 2, 'Need for Speed: Porsche Unleashed': 2, 'Goldeneye 007: Reloaded': 2, 'Ace Combat: Assault Horizon': 2, 'Resonance of Fate': 2, 'NASCAR 2001': 2, \"Oddworld: Munch's Oddysee\": 2, 'Persona 4: Arena': 2, 'NHL 11': 2, 'Full Spectrum Warrior': 2, 'The Godfather II': 2, 'Naruto Shippuden: Ultimate Ninja Storm Generations': 2, 'DmC: Devil May Cry': 2, 'Dragon Ball Z: Budokai Tenkaichi 2': 2, 'Hitman: Contracts': 2, 'Major League Baseball 2K7': 2, 'Thrillville': 2, 'Street Fighter Anniversary Collection': 2, 'MotorStorm: Arctic Edge': 2, 'Lollipop Chainsaw': 2, 'Wild ARMs 3': 2, 'The Witcher 2: Assassins of Kings': 2, 'Donkey Kong Barrel Blast': 2, 'Shinobi': 2, 'Strike Force Bowling': 2, 'Red Steel 2': 2, 'XGRA: Extreme G-Racing Association': 2, 'Tomb Raider III: Adventures of Lara Croft': 2, 'Battle of Giants: Dragons': 2, \"SpongeBob's Atlantis SquarePantis\": 2, 'NFL Fever 2003': 2, 'Medal of Honor: Underground': 2, 'Cooking Mama 4: Kitchen Magic!': 2, 'Brutal Legend': 2, 'Fire Emblem: Shadow Dragon': 2, 'Metroid Prime: Trilogy': 2, 'Dora the Explorer: Super Spies': 2, 'Advance Wars: Days of Ruin': 2, 'NCAA Football 12': 2, \"Texas Hold 'Em Poker\": 2, 'Time Crisis 3': 2, 'Tearaway': 2, 'Petz: Catz 2': 2, 'PlayStation All-Stars Battle Royale': 2, 'Buzz Lightyear of Star Command': 2, 'Shin Megami Tensei: Persona 3 Portable': 2, 'MLB 12: The Show': 2, \"Fist of the North Star: Ken's Rage\": 2, 'Brothers In Arms: Road to Hill 30': 2, 'Street Fighter V': 2, 'Sonic Riders: Zero Gravity': 2, 'Farming Simulator 17': 2, 'Dynasty Warriors 7': 2, 'Crash: Twinsanity': 2, 'Knockout Kings 2002': 2, 'SpongeBob SquarePants: The Yellow Avenger': 2, 'Sengoku Basara: Samurai Heroes': 2, 'NCAA Football 11': 2, 'Lost Planet 2': 2, 'Top Gun: Combat Zones': 2, \"Tony Hawk's Pro Skater 2x\": 2, 'White Knight Chronicles II': 2, 'EA Sports UFC 2': 2, 'The Sims 3: Generations': 2, 'Ape Escape 2': 2, 'Naruto Shippuden: Ultimate Ninja Storm 3': 2, 'Shin Megami Tensei: Persona 3 FES': 2, 'MLB 06: The Show': 2, 'NCAA Football 10': 2, 'Dark Sector': 2, 'Secret Weapons Over Normandy': 2, 'Bratz: The Movie': 2, 'Star Wars Battlefront: Elite Squadron': 2, 'Binary Domain': 2, 'Golden Axe: Beast Rider': 2, 'SWAT: Global Strike Team': 2, 'PaRappa The Rapper': 2, 'Battlestations: Pacific': 2, 'Def Jam Rapstar': 2, 'MX Unleashed': 2, 'Final Fantasy XI': 2, 'Warhammer 40,000: Squad Command': 2, 'Darkwatch': 2, 'Hatsune Miku: Project Diva F 2nd': 2, 'FIFA Street 3': 2, 'Burnout Paradise': 2, 'Silent Hill HD Collection': 2, 'Def Jam Vendetta': 2, 'All-Star Baseball 2005': 2, 'Spyro: Enter the Dragonfly': 2, 'Shenmue II': 2, 'Rugby World Cup 2011': 2, 'Mortal Kombat vs. DC Universe': 2, 'J Stars Victory Vs.': 2, 'Dark Souls': 2, \"LEGO Legends of Chima: Laval's Journey\": 2, 'Teen Titans': 2, 'Legends of Wrestling II': 2, \"Kelly Slater's Pro Surfer\": 2, 'Dynasty Warriors 5 Empires': 2, '50 Cent: Bulletproof': 2, 'WWE Crush Hour': 2, 'Midnight Club II': 2, 'Sly 2: Band of Thieves': 2, 'Teenage Mutant Ninja Turtles: Smash-Up': 2, 'Chicken Shoot': 2, 'Rayman Raving Rabbids 2': 2, 'Karaoke Revolution': 2, 'NCAA Football 06': 2, 'Tropico 4': 2, 'Transformers: Dark of the Moon': 2, 'Fracture': 2, \"Tim Burton's The Nightmare Before Christmas: Oogie's Revenge\": 2, 'Supreme Commander 2': 2, 'Racquet Sports': 2, 'Conan': 2, 'Leisure Suit Larry: Magna Cum Laude': 2, 'Dynasty Warriors 6 Empires': 2, 'World of Final Fantasy': 2, 'NHL 17': 2, 'Dynasty Warriors 3': 2, 'The King of Fighters XIII': 2, 'Call of Duty 2': 2, 'Clash of the Titans': 2, 'Bass Pro Shops: The Strike': 2, 'Blade II': 2, 'Zumba Fitness': 2, 'True Crime: New York City': 2, \"Army of Two: The Devil's Cartel\": 2, 'The Incredibles': 2, 'Pro Race Driver': 2, 'Rocky: Legends': 2, 'BloodRayne 2': 2, 'The Club': 2, 'Shadows of the Damned': 2, 'Reign of Fire': 2, 'Dragon Ball Z: Budokai 2': 2, 'Need for Speed Carbon: Own the City': 2, 'Section 8': 2, 'Family Guy: Back to the Multiverse': 2, 'All-Pro Football 2K8': 2, 'Batman: Return to Arkham': 2, 'Superman Returns': 2, 'Battlestations: Midway': 2, 'NCAA March Madness 08': 2, 'Midnight Club: Los Angeles': 2, 'Pure': 2, 'Crazy Taxi': 2, 'NHL 08': 2, 'El Shaddai: Ascension of the Metatron': 2, 'Dead to Rights: Retribution': 2, 'Resident Evil - Code: Veronica X': 2, 'Turning Point: Fall of Liberty': 2, 'UFC 2009 Undisputed': 2, 'BlazBlue: Chrono Phantasma': 2, 'Final Fantasy III': 2, 'Grandia II': 2, 'Tetris Worlds': 2, 'MySims SkyHeroes': 2, 'Syphon Filter: Dark Mirror': 2, 'Dynasty Warriors 4': 2, 'Harvest Moon: Magical Melody': 2, 'Prince of Persia: Rival Swords': 2, 'MLB Power Pros': 2, 'Mission: Impossible - Operation Surma': 2, 'Sakura Wars: So Long, My Love': 2, 'Star Wars: Knights of the Old Republic': 2, 'Psi-Ops: The Mindgate Conspiracy': 2, 'World of Tanks': 2, 'Majin and the Forsaken Kingdom': 2, 'Street Hoops': 2, 'Hatsune Miku: Project Diva f': 2, \"Bladestorm: The Hundred Years' War\": 2, 'Jackass the Game': 2, \"Sonic's Ultimate Genesis Collection\": 2, 'Earth Defense Force 2025': 2, 'Def Jam: Fight for NY': 2, 'Sword Art Online: Lost Song': 2, 'The Incredibles: Rise of the Underminer': 2, 'Colin McRae Rally 3': 2, 'Worms: Open Warfare 2': 2, 'Ridge Racer': 2, 'Viking: Battle for Asgard': 2, \"Robert Ludlum's The Bourne Conspiracy\": 2, 'Metal Gear Rising: Revengeance': 2, 'Child of Eden': 2, 'NFL Blitz 20-03': 2, 'Eternal Sonata': 2, 'Ninja Gaiden 3': 2, 'Naruto Shippuden: Ultimate Ninja Storm Revolution': 2, 'Naughty Bear': 2, 'Red Dead Revolver': 2, 'Disney Sing It': 2, 'Def Jam Icon': 2, 'Battlefield: Bad Company': 2, '25 to Life': 2, 'Fight Night 2004': 2, 'Batman: Arkham Origins Blackgate': 2, 'Zone of the Enders HD Collection': 2, 'Hot Wheels World Race': 2, 'Superman: Shadow of Apokolips': 2, 'Major League Baseball 2K5': 2, 'Forza Horizon 2': 2, 'The Thing': 2, 'Dynasty Warriors 5': 2, \"Syphon Filter: Logan's Shadow\": 2, 'X-Men: Next Dimension': 2, 'Dynasty Warriors Gundam': 2, 'Rock Band 4': 2, 'ICO': 2, 'Hot Wheels Velocity X': 2, 'L.A. Rush': 2, 'World Series of Poker': 2, 'Final Fantasy Crystal Chronicles: Echoes of Time': 2, 'Godzilla: Save the Earth': 2, 'SimCity Creator': 2, 'Brothers In Arms: Earned in Blood': 2, 'Silent Hill: Homecoming': 2, 'Doom 3': 2, 'Silent Hill: Downpour': 2, 'Delta Force: Black Hawk Down': 2, 'Top Spin': 2, 'The Powerpuff Girls: Relish Rampage': 2, 'NFL Head Coach': 2, 'Area 51': 2, 'Test Drive': 2, 'Star Wars Jedi Knight: Jedi Academy': 2, 'Samurai Warriors': 2, 'American Chopper': 2, 'Castlevania: Curse of Darkness': 2, 'Fight Night Round 4': 2, 'Quake 4': 2, 'NBA Ballers': 2, 'Brunswick Pro Bowling': 2, 'FlatOut': 2, 'Hunter: The Reckoning': 2, 'Madden NFL 2001': 2, 'The Dog Island': 2, 'Sonic Colors': 2, \"Cabela's Deer Hunt 2005 Season\": 2, 'Trivial Pursuit': 2, 'EA Sports MMA': 2, 'Tiger Woods PGA Tour 14': 2, 'Ice Age 2: The Meltdown': 2, 'BioShock The Collection': 2, 'Dishonored': 2, 'The Legend of Spyro: A New Beginning': 2, \"Dragon's Dogma\": 2, 'Wanted: Weapons of Fate': 2, 'State of Emergency': 2, 'High Heat Major League Baseball 2004': 2, 'Robots': 2, 'NARC': 2, 'Bionic Commando': 2, 'MotoGP 08': 2, 'Chessmaster': 2, 'The Suffering': 2, 'Minority Report: Everybody Runs': 2, 'MVP Baseball 2005': 2, \"Tom Clancy's Ghost Recon Advanced Warfighter\": 2, 'Jimmy Neutron: Boy Genius': 2, 'Marvel Super Hero Squad': 2, \"Smuggler's Run\": 2, 'The Terminator: Dawn of Fate': 2, 'God Eater 2: Rage Burst': 2, \"Disney's Tarzan Untamed\": 2, 'SoulCalibur IV': 2, 'BlazBlue: Continuum Shift': 2, 'NFL GameDay 2002': 2, 'Blood Omen 2': 2, 'Six Flags Fun Park': 2, 'ESPN NBA 2K5': 2, 'Gauntlet: Seven Sorrows': 2, 'Overlord': 2, 'NFL Street 2': 2, 'Viva Pinata': 2, \"Asura's Wrath\": 2, '18 Wheeler: American Pro Trucker': 2, 'Armored Core V': 2, 'Army of Two': 2, 'E.T. The Extra-Terrestrial': 2}\n",
      "[('Madden NFL 07', 10), ('LEGO Jurassic World', 9), ('LEGO Star Wars II: The Original Trilogy', 9), ('Need for Speed: Most Wanted', 9), ('LEGO Marvel Super Heroes', 8), ('The LEGO Movie Videogame', 8), ('FIFA 15', 8), ('Harry Potter and the Half-Blood Prince', 8), ('Angry Birds Star Wars', 8), ('FIFA Soccer 13', 8), ('FIFA 14', 8), ('Lego Batman 3: Beyond Gotham', 8), ('Terraria', 8), ('Need for Speed: ProStreet', 7), ('Harry Potter and the Goblet of Fire', 7), ('Need for Speed Carbon', 7), ('LEGO Batman: The Videogame', 7), ('LEGO Batman 2: DC Super Heroes', 7), ('Madden NFL 08', 7), ('Prince of Persia: The Forgotten Sands', 7), ('Iron Man', 7), ('Need For Speed: Undercover', 7), ('Skylanders SWAP Force', 7), ('Ghostbusters: The Video Game', 7), ('FIFA Soccer 10', 7), (\"LEGO Marvel's Avengers\", 7), ('LEGO Indiana Jones: The Original Adventures', 7), ('Harry Potter and the Order of the Phoenix', 7), ('Spider-Man 3', 7), ('Tomb Raider: Legend', 7), ('WWE SmackDown vs. Raw 2010', 7), ('The Sims 2', 7), ('FIFA World Cup Germany 2006', 6), ('Watch Dogs', 6), ('Pro Evolution Soccer 2010', 6), ('Crash of the Titans', 6), ('Pro Evolution Soccer 2012', 6), ('The Sims 3', 6), ('Far Cry 4', 6), ('The Sims 2: Pets', 6), (\"Assassin's Creed IV: Black Flag\", 6), ('Need for Speed Underground 2', 6), (\"Peter Jackson's King Kong: The Official Game of the Movie\", 6), ('Ratatouille', 6), ('Just Dance 2015', 6), ('Michael Jackson: The Experience', 6), (\"Harry Potter and the Sorcerer's Stone\", 6), ('pro evolution soccer 2011', 6), ('Rayman Legends', 6), ('Harry Potter and the Chamber of Secrets', 6), ('FIFA Soccer 08', 6), ('Madden NFL 13', 6), ('Cars', 6), ('Star Wars: The Force Unleashed', 6), ('Spider-Man 2', 6), ('LEGO The Lord of the Rings', 6), ('FIFA Soccer 09', 6), ('Juiced 2: Hot Import Nights', 6), ('LEGO Harry Potter: Years 5-7', 6), ('WWE SmackDown vs. Raw 2009', 6), ('Just Dance 2014', 6), ('Madden NFL 09', 6), ('Marvel: Ultimate Alliance', 6), ('Tomb Raider: Underworld', 6), ('Rayman Origins', 6), ('WWE SmackDown vs Raw 2008', 6), ('FIFA Soccer 11', 6), ('WWE All Stars', 6), ('Spider-Man: Web of Shadows', 6), ('LEGO Pirates of the Caribbean: The Video Game', 6), ('The Simpsons Game', 6), ('The Golden Compass', 6), ('Madden NFL 06', 6), ('NBA Live 08', 6), ('Plants vs. Zombies: Garden Warfare', 6), ('Lego Star Wars: The Force Awakens', 6), ('LEGO The Hobbit', 6), ('Wall-E', 6), ('X-Men: The Official Game', 6), ('Star Wars The Clone Wars: Republic Heroes', 6), ('Tiger Woods PGA Tour 2004', 5), ('Fantastic Four: Rise of the Silver Surfer', 5), ('Star Wars: The Force Unleashed II', 5), ('X-Men Legends II: Rise of Apocalypse', 5), ('G-Force', 5), ('Skylanders Giants', 5), ('NBA 2K12', 5), (\"Tony Hawk's Proving Ground\", 5), ('Transformers: Devastation', 5), ('Just Dance 2016', 5), ('Thrillville: Off the Rails', 5), (\"Skylanders: Spyro's Adventure\", 5), (\"Tom Clancy's EndWar\", 5), ('Madden NFL 10', 5), ('The Wolf Among Us', 5), ('F1 2011', 5), ('Marvel: Ultimate Alliance 2', 5), ('Middle-Earth: Shadow of Mordor', 5), ('NBA 2K13', 5), ('Wolfenstein: The New Order', 5), ('Kung Fu Panda', 5), ('The Legend of Spyro: Dawn of the Dragon', 5), ('LEGO Harry Potter: Years 1-4', 5), ('Mortal Kombat: Deadly Alliance', 5), ('Crash: Mind Over Mutant', 5), ('DiRT 2', 5), ('Murdered: Soul Suspect', 5), ('Bakugan: Battle Brawlers', 5), ('Need for Speed Rivals', 5), ('Dragon Age: Inquisition', 5), ('Harry Potter and the Prisoner of Azkaban', 5), ('Need for Speed: The Run', 5), ('NBA 2K10', 5), ('NBA 2K17', 5), ('Resident Evil: Revelations 2', 5), ('Alien: Isolation', 5), ('Major League Baseball 2K9', 5), ('The Evil Within', 5), ('Battlefield: Hardline', 5), ('Skylanders: SuperChargers', 5), ('LEGO Star Wars III: The Clone Wars', 5), ('The Urbz: Sims in the City', 5), ('Harry Potter and the Deathly Hallows - Part 1', 5), ('Mini Ninjas', 5), ('FIFA Street 2', 5), ('Sega Rally Revo', 5), ('The Crew', 5), ('Metal Gear Solid V: Ground Zeroes', 5), ('Spider-Man: Friend or Foe', 5), ('Guitar Hero: Metallica', 5), ('Pro Evolution Soccer 2017', 5), ('Fight Night Round 3', 5), ('Band Hero', 5), ('Grand Theft Auto V', 5), (\"Tony Hawk's Project 8\", 5), ('Battlefield 4', 5), ('Metal Gear Solid V: The Phantom Pain', 5), ('Tomb Raider: Anniversary', 5), ('Call of Duty: Advanced Warfare', 5), ('FIFA 17', 5), ('Resident Evil: Revelations', 5), ('Call of Duty: World at War', 5), ('Rock Band 3', 5), ('Back to the Future: The Game', 5), ('Need for Speed Underground', 5), ('Guitar Hero Live', 5), ('Thor: God of Thunder', 5), ('Guitar Hero: World Tour', 5), ('Pro Evolution Soccer 2008', 5), ('Blazing Angels: Squadrons of WWII', 5), (\"Tony Hawk's Underground\", 5), ('Ultimate Spider-Man', 5), ('NBA 2K16', 5), (\"Pirates of the Caribbean: At World's End\", 5), ('LEGO Dimensions', 5), ('Just Dance 4', 5), ('FIFA 16', 5), ('Pro Evolution Soccer 2016', 5), ('Guitar Hero III: Legends of Rock', 5), ('Resident Evil 6', 5), ('Tiger Woods PGA Tour 06', 5), ('Pro Evolution Soccer 2015', 5), ('The Lord of the Rings: Conquest', 5), ('Call of Duty: Black Ops', 5), (\"Tony Hawk's Pro Skater 3\", 5), ('Marvel Nemesis: Rise of the Imperfects', 5), ('Call of Duty: Ghosts', 5), ('NBA Jam', 4), ('Puzzle Quest: Challenge of the Warlords', 4), ('Harry Potter and the Deathly Hallows - Part 2', 4), ('Indiana Jones and the Staff of Kings', 4), ('DJ Hero', 4), ('The Chronicles of Narnia: Prince Caspian', 4), ('Street Fighter X Tekken', 4), ('Disney Infinity', 4), ('Destiny', 4), ('From Russia With Love', 4), ('Skylanders: Trap Team', 4), ('Sonic Generations', 4), (\"Assassin's Creed III\", 4), ('Major League Baseball 2K8', 4), ('Monopoly', 4), ('Guitar Hero 5', 4), ('Guitar Hero: Smash Hits', 4), ('LEGO Star Wars: The Complete Saga', 4), ('Disney Universe', 4), ('Virtua Tennis 3', 4), ('XCOM: Enemy Unknown', 4), ('NHL 2K10', 4), ('DJ Hero 2', 4), ('NBA Live 09', 4), ('Madden NFL 2004', 4), ('Bionicle Heroes', 4), ('Harry Potter: Quidditch World Cup', 4), ('Borderlands: The Pre-Sequel', 4), ('NCAA Football 07', 4), ('Madden NFL 17', 4), ('Medal of Honor: Frontline', 4), ('Teenage Mutant Ninja Turtles: Mutants in Manhattan', 4), ('Sacred 2: Fallen Angel', 4), ('SpongeBob SquarePants: Battle for Bikini Bottom', 4), ('One Piece: Unlimited World Red', 4), ('Tiger Woods PGA Tour 07', 4), ('Tiger Woods PGA Tour 08', 4), ('Charlie and the Chocolate Factory', 4), ('NHL 15', 4), ('Borderlands 2', 4), ('WWE SmackDown vs. Raw 2011', 4), ('Rugby World Cup 2015', 4), ('Turok: Evolution', 4), ('NBA Live 07', 4), ('Gun', 4), ('Guitar Hero: Aerosmith', 4), ('Aliens: Colonial Marines', 4), ('Scarface: The World is Yours', 4), ('NBA 2K9', 4), ('Call of Duty 4: Modern Warfare', 4), ('Just Dance 3', 4), ('Hitman: Blood Money', 4), ('Avatar: The Last Airbender', 4), ('NHL 09', 4), (\"Baldur's Gate: Dark Alliance\", 4), ('FIFA Street', 4), ('The BIGS', 4), ('Call of Duty: Black Ops II', 4), ('NHL 07', 4), ('2010 FIFA World Cup South Africa', 4), ('SSX On Tour', 4), ('WWE 2K16', 4), ('Call of Duty: Modern Warfare 3', 4), ('Alone in the Dark', 4), ('Pinball Hall of Fame: The Williams Collection', 4), ('NCAA Football 08', 4), ('Crash Tag Team Racing', 4), (\"Tom Clancy's Splinter Cell: Double Agent\", 4), ('Dead Rising 2', 4), ('007: Quantum of Solace', 4), ('GRID', 4), (\"Tom Clancy's Splinter Cell: Pandora Tomorrow\", 4), ('Grand Theft Auto: San Andreas', 4), ('Plants vs. Zombies', 4), ('Fallout 4', 4), ('Dragon Ball: XenoVerse', 4), (\"Tom Clancy's Splinter Cell: Chaos Theory\", 4), ('Spider-Man: Shattered Dimensions', 4), ('NBA 2K7', 4), ('Rayman Raving Rabbids', 4), ('Dragon Age II', 4), ('LEGO Indiana Jones 2: The Adventure Continues', 4), ('Virtua Tennis 4', 4), ('Deadpool', 4), ('Battlefield 3', 4), ('Batman Begins', 4), ('TMNT', 4), ('WWE 2K15', 4), ('The Adventures of Tintin: The Game', 4), ('Mafia III', 4), ('Destiny: The Taken King', 4), ('The Walking Dead: Survival Instinct', 4), ('Spider-Man: Edge of Time', 4), (\"Lemony Snicket's A Series of Unfortunate Events\", 4), ('FIFA Soccer 2004', 4), ('Star Wars: Battlefront II', 4), ('NBA 2K14', 4), ('The Simpsons: Road Rage', 4), ('Rock Band', 4), ('NBA 2K15', 4), ('Wolfenstein', 4), ('Teenage Mutant Ninja Turtles', 4), ('NPPL: Championship Paintball 2009', 4), (\"Tony Hawk's Pro Skater 4\", 4), ('Monster Jam', 4), ('FIFA Soccer 2005', 4), ('Sniper Elite 3', 4), ('MotoGP', 4), ('Madden NFL 2005', 4), ('Angry Birds Trilogy', 4), ('Tony Hawk: RIDE', 4), ('James Bond 007: Everything or Nothing', 4), ('Batman: Arkham Origins', 4), ('Fight Night Round 2', 4), ('Madden NFL 25', 4), ('Prince of Persia: The Sands of Time', 4), ('X-Men Origins: Wolverine', 4), ('Need for Speed: Shift', 4), ('Rock Band 2', 4), ('James Bond 007: Nightfire', 4), ('Crysis 3', 4), (\"Tom Clancy's Splinter Cell\", 4), ('Captain America: Super Soldier', 4), ('Madden NFL 16', 4), ('Tiger Woods PGA Tour 09', 4), (\"Tony Hawk's Pro Skater 5\", 4), ('Sega Superstars Tennis', 4), ('de Blob 2', 4), ('The Lord of the Rings: The Return of the King', 4), ('Max Payne', 4), ('Star Wars Episode III: Revenge of the Sith', 4), ('Ride', 4), ('X-Men: Destiny', 4), ('Medal of Honor', 4), ('GoldenEye: Rogue Agent', 4), ('Need for Speed: Hot Pursuit', 4), ('Tiger Woods PGA Tour 12: The Masters', 4), (\"X2: Wolverine's Revenge\", 4), ('The Sims', 4), ('The Chronicles of Narnia: The Lion, The Witch and The Wardrobe', 4), ('FIFA Soccer 2003', 4), ('Call of Duty 3', 4), ('G.I. Joe: The Rise of Cobra', 4), ('Madden NFL 11', 4), ('Ben 10: Alien Force', 4), ('FIFA Soccer 2002', 4), ('The Sims 2: Castaway', 4), ('Winning Eleven: Pro Evolution Soccer 2007', 4), ('Evolve', 4), ('BlazBlue: Chrono Phantasma Extend', 4), ('LEGO Rock Band', 4), ('NBA 2K11', 4), ('Darksiders II', 4), (\"Tom Clancy's Splinter Cell: Blacklist\", 4), ('Test Drive Unlimited 2', 4), ('Robotech: Battlecry', 4), ('Shadow The Hedgehog', 4), (\"Tony Hawk's American Wasteland\", 4), ('Crash Nitro Kart', 4), ('IL-2 Sturmovik: Birds of Prey', 4), ('Driver: San Francisco', 4), ('Madden NFL 15', 4), (\"Tom Clancy's Ghost Recon\", 4), ('Sonic Unleashed', 4), ('Rayman 3: Hoodlum Havoc', 4), ('MX vs. ATV Untamed', 4), ('Jak and Daxter: The Lost Frontier', 3), ('Burnout', 3), ('Legacy of Kain: Defiance', 3), ('NBA Live 06', 3), ('Scribblenauts: Unlimited', 3), ('Wet', 3), ('The Incredible Hulk: Ultimate Destruction', 3), ('The Hobbit', 3), ('Top Spin 4', 3), ('Ty the Tasmanian Tiger 2: Bush Rescue', 3), ('Stuntman: Ignition', 3), ('Blur', 3), ('Over the Hedge', 3), ('Two Worlds II', 3), ('NBA Live 10', 3), ('NASCAR 09', 3), (\"Backyard Wrestling: Don't Try This at Home\", 3), ('Split/Second', 3), ('Dynasty Warriors 6', 3), ('World of Zoo', 3), ('MySims Racing', 3), ('Vanquish', 3), ('Mafia', 3), ('Dragon Ball Z: Ultimate Tenkaichi', 3), ('Tony Hawk: Shred', 3), ('F1 2015', 3), ('NHL 13', 3), ('TimeSplitters 2', 3), ('MLB 08: The Show', 3), ('Turok', 3), ('The Warriors', 3), (\"Spyro: A Hero's Tail\", 3), ('James Bond 007: Blood Stone', 3), ('Alice: Madness Returns', 3), ('Spec Ops: The Line', 3), ('F.E.A.R. 2: Project Origin', 3), ('Top Spin 3', 3), ('The Lord of the Rings: The Third Age', 3), ('Up', 3), ('MLB 14: The Show', 3), ('Tak 2: The Staff of Dreams', 3), ('XIII', 3), ('MLB 11: The Show', 3), ('Metal Gear Solid 2: Substance', 3), ('Doom 3 BFG Edition', 3), ('Samurai Warriors 2', 3), ('Defiance', 3), ('Condemned 2: Bloodshot', 3), ('BlazBlue: Calamity Trigger', 3), ('NHL 16', 3), ('Okami', 3), (\"Tom Clancy's HAWX\", 3), ('Payday 2', 3), ('NHL 06', 3), ('Lost: Via Domus', 3), ('Prince of Persia: The Two Thrones', 3), ('Viewtiful Joe', 3), ('Warhammer 40,000: Space Marine', 3), ('Dishonored 2', 3), ('Monopoly Streets', 3), ('Unreal Tournament III', 3), ('MLB 09: The Show', 3), ('2014 FIFA World Cup Brazil', 3), ('NieR', 3), ('Manhunt 2', 3), ('Bolt', 3), ('NASCAR 06: Total Team Control', 3), ('WWE 2K17', 3), ('Battlefield 2: Modern Combat', 3), ('Warriors Orochi 3', 3), (\"Cabela's Big Game Hunter 2005 Adventures\", 3), ('2002 FIFA World Cup', 3), ('Cars: Mater-National Championship', 3), ('Silent Hill: Shattered Memories', 3), ('Mega Man Anniversary Collection', 3), ('Dead or Alive 5', 3), ('The Darkness II', 3), ('Lords of the Fallen', 3), ('The Cursed Crusade', 3), ('NHL 2K3', 3), ('Lost Planet 3', 3), ('Pitfall: The Lost Expedition', 3), ('WRC: FIA World Rally Championship', 3), ('Odin Sphere: Leifthrasir', 3), ('Apache: Air Assault', 3), ('Gladius', 3), (\"Cabela's Survival: Shadows of Katmai\", 3), ('Castlevania: Lords of Shadow 2', 3), ('Sniper Elite', 3), ('Conflict: Denied Ops', 3), ('NHL Hitz Pro', 3), ('Dynasty Warriors 8: Empires', 3), ('Shaun White Skateboarding', 3), ('Buffy the Vampire Slayer: Chaos Bleeds', 3), ('CSI: Fatal Conspiracy', 3), ('GRID Autosport', 3), ('NHL 2K9', 3), ('Stormrise', 3), ('Hellboy: The Science of Evil', 3), ('Catwoman', 3), (\"You Don't Know Jack\", 3), ('Pac-Man World 3', 3), ('Risen 2: Dark Waters', 3), ('Samurai Warriors 4', 3), ('NASCAR 08', 3), (\"Surf's Up\", 3), ('Driver: Parallel Lines', 3), ('NHL Hitz 20-03', 3), ('Ice Age: Dawn of the Dinosaurs', 3), ('Rock Revolution', 3), ('Jurassic Park: Operation Genesis', 3), ('AC/DC LIVE: Rock Band Track Pack', 3), ('NBA 07', 3), ('Battleborn', 3), ('Spartan: Total Warrior', 3), ('Legendary', 3), ('Game of Thrones', 3), ('College Hoops 2K6', 3), (\"Hunted: The Demon's Forge\", 3), ('The Bureau: XCOM Declassified', 3), ('Vexx', 3), ('TimeSplitters: Future Perfect', 3), ('The Testament of Sherlock Holmes', 3), ('XCOM 2', 3), ('Bladestorm: Nightmare', 3), ('Ridge Racer Unbounded', 3), ('Freedom Fighters', 3), ('Green Lantern: Rise of the Manhunters', 3), ('Digimon Rumble Arena 2', 3), ('Risen 3: Titan Lords', 3), (\"Jumper: Griffin's Story\", 3), (\"Assassin's Creed Chronicles\", 3), ('TOCA Race Driver 3', 3), ('Guilty Gear XX Accent Core Plus', 3), ('PAC-MAN and the Ghostly Adventures', 3), ('Song of the Deep', 3), ('Valentino Rossi: The Game', 3), ('Inversion', 3), ('RedCard 20-03', 3), ('XGRA: Extreme G Racing Association', 3), ('DuckTales: Remastered', 3), ('The Technomancer', 3), ('Secret Files: Tunguska', 3), ('Mighty No. 9', 3), ('Ride 2', 3), ('Prison Architect', 3), ('Turbo: Super Stunt Squad', 3), ('Rugby League Live 3', 3), ('Ben 10 Omniverse 2', 3), ('Young Justice: Legacy', 3), ('Tornado Outbreak', 3), ('Natural Doctrine', 3), ('Shovel Knight', 3), ('Create', 3), ('Digimon World 4', 3), ('Super Monkey Ball Adventure', 3), ('Indigo Prophecy', 3), (\"Disney's Donald Duck: Goin' Quackers\", 3), ('BMX XXX', 3), ('Second Sight', 3), ('Bejeweled 3', 3), ('Metal Slug Anthology', 3), ('Just Cause', 3), ('The Crew: Wild Run', 3), ('Venetica', 3), ('Final Fantasy XIV: Heavensward', 3), ('Worms 3D', 3), ('The Smurfs 2', 3), (\"JASF: Jane's Advanced Strike Fighters\", 3), ('The History Channel: Battle for the Pacific', 3), ('Cloudy With a Chance of Meatballs', 3), ('Pac-Man and the Ghostly Adventures 2', 3), ('Sacred 3', 3), ('Warriors Orochi 2', 3), ('Call of Juarez: The Cartel', 3), ('Shrek Super Party', 3), ('The BIGS 2', 3), ('Spawn: Armageddon', 3), ('Transformers: Fall of Cybertron', 3), ('Ben 10 Alien Force: Vilgax Attacks', 3), ('Bionicle', 3), ('Mass Effect Trilogy', 3), ('Alpha Protocol', 3), ('Wolfenstein: The Old Blood', 3), ('The Legend of Spyro: The Eternal Night', 3), ('NHL 2K6', 3), ('All-Star Baseball 2004', 3), ('Trials Fusion', 3), ('How to Train Your Dragon', 3), ('Metro: Last Light', 3), ('BloodRayne', 3), ('TRON: Evolution', 3), (\"Tom Clancy's Rainbow Six: Lockdown\", 3), ('TimeShift', 3), (\"Tom Clancy's HAWX 2\", 3), ('Green Day: Rock Band', 3), ('F1 2014', 3), ('Ed, Edd n Eddy: The Mis-Edventures', 3), ('Van Helsing', 3), ('Teenage Mutant Ninja Turtles 2: Battle Nexus', 3), ('Major League Baseball 2K6', 3), ('Plants vs. Zombies: Garden Warfare 2', 3), ('Epic Mickey 2: The Power of Two', 3), ('The Saboteur', 3), ('Test Drive Unlimited', 3), ('R.U.S.E.', 3), ('Major League Baseball 2K12', 3), ('Shrek SuperSlam', 3), ('Fantastic 4', 3), ('Dynasty Warriors: Gundam 2', 3), ('SpongeBob SquarePants: Creature from the Krusty Krab', 3), ('Shrek the Third', 3), ('F.E.A.R. 3', 3), (\"Pirates of the Caribbean: Dead Man's Chest\", 3), ('One Piece: Pirate Warriors 3', 3), ('Dragon Ball Z: Sagas', 3), ('NHL 2005', 3), ('Karaoke Revolution Presents American Idol Encore', 3), ('Dynasty Warriors: Strikeforce', 3), ('Enemy Territory: Quake Wars', 3), ('Major League Baseball 2K11', 3), ('Red Faction: Armageddon', 3), ('Beowulf: The Game', 3), ('Life is Strange', 3), ('Rampage: Total Destruction', 3), ('Happy Feet', 3), ('Dead Rising 2: Off the Record', 3), ('Overlord II', 3), ('Operation Flashpoint: Red River', 3), ('Singularity', 3), (\"Disney's Extreme Skate Adventure\", 3), (\"Clive Barker's Jericho\", 3), ('F1 Race Stars', 3), ('Fuel', 3), ('Tropico 5', 3), (\"Cabela's Outdoor Adventures (2009)\", 3), ('Sniper: Ghost Warrior 2', 3), ('Dragon Ball Z: Battle of Z', 3), ('Monsters vs. Aliens', 3), ('NASCAR 2011: The Game', 3), (\"Fist of the North Star: Ken's Rage 2\", 3), ('Guitar Hero: Van Halen', 3), ('Front Mission Evolved', 3), ('Ultimate Marvel vs. Capcom 3', 3), ('The Chronicles of Riddick: Assault on Dark Athena', 3), ('Heroes of the Pacific', 3), ('Remember Me', 3), ('Bee Movie Game', 3), ('I-Ninja', 3), ('GRID 2', 3), ('Iron Man 2', 3), ('Dungeon Siege III', 3), ('Looney Tunes: Acme Arsenal', 3), ('Deus Ex: Mankind Divided', 3), ('The Incredible Hulk', 3), ('Dawn of Discovery', 3), ('Virtua Tennis 2009', 3), ('Madagascar: Escape 2 Africa', 3), (\"Cabela's Dangerous Hunts 2009\", 3), ('Rocket League', 3), ('TrackMania Turbo', 3), ('DiRT Rally', 3), ('SAW', 3), ('Batman: Rise of Sin Tzu', 3), ('Dark Void', 3), ('Homefront: The Revolution', 3), ('One Piece: Burning Blood', 3), ('Aggressive Inline', 3), (\"Mirror's Edge Catalyst\", 3), ('Metal Arms: Glitch in the System', 3), ('Titanfall 2', 3), ('NHL Hitz 20-02', 3), ('Hulk', 3), ('BioShock Infinite', 3), ('Medal of Honor: Rising Sun', 3), ('Mass Effect 2', 3), ('The Orange Box', 3), ('Project CARS', 3), ('Enter the Matrix', 3), ('True Crime: Streets of LA', 3), ('Far Cry 3', 3), ('The SpongeBob SquarePants Movie', 3), ('Rocksmith', 3), (\"Assassin's Creed Syndicate\", 3), ('Resident Evil 5', 3), ('Just Cause 2', 3), ('Borderlands', 3), ('SSX Tricky', 3), ('Tak and the Power of Juju', 3), ('Fallout 3', 3), ('Bad Boys: Miami Takedown', 3), ('The Lord of the Rings: The Two Towers', 3), ('The Beatles: Rock Band', 3), ('Gauntlet: Dark Legacy', 3), ('Battlefield: Bad Company 2', 3), ('Deal or No Deal', 3), ('Sniper: Ghost Warrior', 3), (\"Cabela's Big Game Hunter 2010\", 3), ('Sonic the Hedgehog', 3), (\"Mirror's Edge\", 3), ('SSX 3', 3), (\"Assassin's Creed: Brotherhood\", 3), ('NCAA Football 2004', 3), (\"Dante's Inferno\", 3), ('Diablo III', 3), ('Max Payne 3', 3), ('NBA Live 2002', 3), ('X-Men Legends', 3), ('Titanfall', 3), ('Hitman 2: Silent Assassin', 3), ('Bulletstorm', 3), (\"Tom Clancy's Ghost Recon Advanced Warfighter 2\", 3), ('LittleBigPlanet 3', 3), (\"Assassin's Creed II\", 3), ('Sonic Heroes', 3), ('Mortal Kombat: Deception', 3), ('Brink', 3), ('Saints Row 2', 3), ('Mass Effect 3', 3), ('Shrek 2', 3), ('F1 2012', 3), ('Just Cause 3', 3), ('Sleeping Dogs', 3), ('Madden NFL 2002', 3), ('DiRT', 3), ('DiRT 3', 3), ('Mercenaries 2: World in Flames', 3), ('Darksiders', 3), ('Aliens vs Predator', 3), ('Tiger Woods PGA Tour 2005', 3), ('NBA Street V3', 3), ('Batman: Arkham City', 3), ('Bully: Scholarship Edition', 3), ('Crash Bandicoot: The Wrath of Cortex', 3), ('Tiger Woods PGA Tour 10', 3), ('Resident Evil: Operation Raccoon City', 3), ('Ty the Tasmanian Tiger', 3), ('SSX', 3), ('Dead to Rights', 3), ('F1 2010', 3), ('MySims', 3), ('Pro Evolution Soccer 2013', 3), ('FIFA Soccer 06', 3), ('Street Fighter IV', 3), (\"Tom Clancy's The Division\", 3), ('Madden NFL 2003', 3), ('Battlefield 1', 3), ('Crysis 2', 3), ('Pac-Man World 2', 3), ('Dead Space 2', 3), ('Red Faction II', 3), (\"WWE '13\", 3), (\"Tom Clancy's Ghost Recon 2\", 3), ('Lost Planet: Extreme Condition', 3), ('Deus Ex: Human Revolution', 3), ('Dave Mirra Freestyle BMX 2', 3), ('Rise of the Tomb Raider', 3), ('Injustice: Gods Among Us', 3), ('Batman: Arkham Knight', 3), ('Fallout: New Vegas', 3), (\"Assassin's Creed: Unity\", 3), ('Medal of Honor: Warfighter', 3), ('UFC Undisputed 2010', 3), (\"Tom Clancy's Ghost Recon: Future Soldier\", 3), ('NFL Street', 3), ('Homefront', 3), ('NCAA Football 2003', 3), ('Mafia II', 3), (\"Assassin's Creed: Revelations\", 3), ('SpongeBob SquarePants: Revenge of the Flying Dutchman', 3), (\"WWE '12\", 3), ('Saints Row IV', 3), ('NBA Live 2003', 3), ('Medal of Honor: Airborne', 3), ('Dark Souls III', 3), ('NBA 2K2', 3), ('Tiger Woods PGA Tour 2003', 3), ('Prince of Persia: Warrior Within', 3), ('Ben 10: Protector of Earth', 3), ('Driv3r', 3), ('NCAA Football 2005', 3), ('Spider-Man: The Movie', 3), ('EA Sports Active 2', 3), ('James Bond 007: Agent Under Fire', 3), ('Dark Souls II', 3), ('Batman: Arkham Asylum', 3), ('Rage', 3), ('Call of Duty: Infinite Warfare', 3), (\"Assassin's Creed: Rogue\", 3), ('The Elder Scrolls IV: Oblivion', 3), ('Far Cry 2', 3), ('Star Wars: Battlefront', 3), ('Resident Evil 4', 3), ('MVP Baseball 2004', 3), ('Devil May Cry 4', 3), ('NBA Live 2005', 3), ('Conflict: Desert Storm', 3), (\"Tom Clancy's Rainbow Six 3\", 3), ('Max Payne 2: The Fall of Max Payne', 3), ('Dead Space 3', 3), ('The Witcher 3: Wild Hunt', 3), ('Blitz: The League', 3), ('[Prototype 2]', 3), ('Dead Rising', 3), ('Mortal Kombat X', 3), ('Sonic Riders', 3), (\"Tony Hawk's Underground 2\", 3), (\"Sid Meier's Civilization Revolution\", 3), ('Madden NFL 12', 3), ('The Legend of Zelda: Twilight Princess', 3), ('Call Of Duty 2: Big Red One', 3), ('South Park: The Stick of Truth', 3), ('MLB 15: The Show', 3), ('Grand Theft Auto IV', 3), ('Shaun White Snowboarding', 3), (\"Brothers in Arms: Hell's Highway\", 3), ('Dragon Ball: Raging Blast 2', 3), ('Portal 2', 3), ('Operation Flashpoint: Dragon Rising', 3), ('MLB 07: The Show', 3), ('Dead Island', 3), ('SoulCalibur II', 3), ('MLB SlugFest 20-03', 3), ('Dying Light', 3), ('Tiger Woods PGA Tour 11', 3), ('Far Cry: Primal', 3), ('NBA 2K8', 3), ('Tekken 6', 3), ('The Elder Scrolls V: Skyrim', 3), ('Red Faction: Guerrilla', 3), ('Kingdoms of Amalur: Reckoning', 3), ('Burnout 2: Point of Impact', 3), ('The Lord of the Rings: War in the North', 3), ('Big Mutha Truckers', 3), (\"Tom Clancy's Rainbow Six: Siege\", 3), ('Need for Speed: Hot Pursuit 2', 3), ('NBA 2K6', 3), ('Call of Juarez: Bound in Blood', 3), ('BioShock 2', 3), ('Saints Row: The Third', 3), ('Duke Nukem Forever', 3), ('Overwatch', 3), ('Burnout Revenge', 3), ('Hitman: Absolution', 3), ('NBA Live 2004', 3), ('Half-Life 2', 3), ('NBA Street Vol. 2', 3), ('Dead Island: Riptide', 3), ('WWE SmackDown vs. RAW 2007', 3), ('NHL 2004', 3), ('All-Star Baseball 2003', 3), ('Dragon Age: Origins', 3), ('NHL 2001', 3), ('Farming Simulator 2013', 3), ('Call of Duty: Finest Hour', 3), ('Guitar Hero: Warriors of Rock', 3), (\"The Sims: Bustin' Out\", 3), (\"Tom Clancy's Rainbow Six: Vegas\", 3), ('Mortal Kombat', 3), ('Call of Duty: Modern Warfare 2', 3), ('Sniper Elite V2', 3), (\"Tom Clancy's Rainbow Six: Vegas 2\", 3), ('Warriors Orochi', 3), ('Dead Space', 3), ('BioShock', 3), ('Army of Two: The 40th Day', 3), ('Pro Evolution Soccer 2014', 3), ('NHL 2003', 3), ('NBA Starting Five', 2), ('Armored Core 4', 2), ('SBK Superbike World Championship', 2), ('Taz Wanted', 2), ('MindJack', 2), ('Midnight Club 3: DUB Edition', 2), ('Final Fantasy XIII-2', 2), ('Jeremy McGrath Supercross World', 2), ('The Legend of Heroes: Trails of Cold Steel', 2), (\"Britney's Dance Beat\", 2), ('Test Drive: Eve of Destruction', 2), (\"Army Men: Sarge's Heroes 2\", 2), ('NBA Live 16', 2), ('Skate 3', 2), ('NCAA College Basketball 2K3', 2), ('Dengeki Bunko Fighting Climax', 2), ('Leisure Suit Larry: Box Office Bust', 2), ('God of War Collection', 2), ('College Hoops 2K8', 2), ('Splatterhouse', 2), ('Wakeboarding Unleashed Featuring Shaun Murray', 2), ('The King of Fighters XII', 2), ('ESPN NHL Hockey', 2), ('DiRT Showdown', 2), ('Fairytale Fights', 2), ('Midnight Club: Street Racing', 2), ('Blood Bowl', 2), ('The Suffering: Ties That Bind', 2), ('NBA Live 15', 2), ('Bomberman Land', 2), (\"Tony Hawk's Downhill Jam\", 2), ('Digimon Story: Cyber Sleuth', 2), ('Terminator 3: The Redemption', 2), ('Burnout 3: Takedown', 2), ('NBA Live 14', 2), ('Mega Man X Collection', 2), ('World Soccer Winning Eleven 8 International', 2), ('Conception II: Children of the Seven Stars', 2), (\"James Cameron's Dark Angel\", 2), ('NBA 09: The Inside', 2), ('Monster Jam: Path of Destruction', 2), ('Teenage Mutant Ninja Turtles: Danger of the Ooze', 2), ('Pure Futbol', 2), (\"NASCAR '14\", 2), ('RoadKill', 2), ('Afro Samurai', 2), ('How to Train Your Dragon 2', 2), ('World Destruction League: Thunder Tanks', 2), ('Goblin Commander: Unleash the Horde', 2), ('Divinity II: Ego Draconis', 2), ('Ben 10 Ultimate Alien: Cosmic Destruction', 2), ('ESPN NFL 2K5', 2), ('Birds of Steel', 2), ('Rapala Fishing Frenzy 2009', 2), (\"Tony Hawk's American Sk8land\", 2), ('Super Monkey Ball Deluxe', 2), ('Tiger Woods PGA Tour', 2), ('Commandos 2: Men of Courage', 2), ('50 Cent: Blood on the Sand', 2), ('Earth Defense Force: Insect Armageddon', 2), ('Forgotten Realms: Demon Stone', 2), ('World Poker Tour', 2), (\"The Bard's Tale\", 2), ('College Hoops 2K7', 2), (\"Crash 'N' Burn\", 2), ('The Dukes of Hazzard: Return of the General Lee', 2), ('Soldier of Fortune: Payback', 2), ('Playboy: The Mansion', 2), ('Predator: Concrete Jungle', 2), ('Tropico 3', 2), ('Dragon Ball Z: Budokai', 2), ('Viewtiful Joe 2', 2), ('Big Mutha Truckers 2', 2), ('L.A. Noire', 2), ('MotoGP 09/10', 2), ('Finding Nemo', 2), ('Record of Agarest War', 2), ('SBK X: Superbike World Championship', 2), ('Mace Griffin: Bounty Hunter', 2), ('Teenage Mutant Ninja Turtles 3: Mutant Nightmare', 2), ('The Last Airbender', 2), ('Mega Man Legacy Collection', 2), ('Tenchu: Shadow Assassins', 2), ('Sonic Mega Collection Plus', 2), (\"Assassin's Creed The Ezio Collection\", 2), ('Project: Snowblind', 2), ('Anarchy Reigns', 2), ('The Bible Game', 2), ('The King of Fighters Collection: The Orochi Saga', 2), (\"Disney's Planes\", 2), ('Zombie Army Trilogy', 2), ('Hitman: HD Trilogy', 2), ('Enchanted Arms', 2), ('Dead to Rights II', 2), ('Dragon Ball Z: Budokai Tenkaichi 3', 2), ('Baja: Edge of Control', 2), ('Shadow of Destiny', 2), ('NBA Street', 2), ('Aliens versus Predator: Extinction', 2), ('Left 4 Dead', 2), ('Rune Factory: Tides of Destiny', 2), ('Toukiden Kiwami', 2), ('NFL Blitz Pro', 2), ('Hannah Montana: The Movie', 2), ('Heavy Fire: Afghanistan', 2), ('Star Trek: Legacy', 2), ('Mass Effect', 2), ('Vietcong: Purple Haze', 2), ('The Italian Job', 2), ('Syndicate', 2), ('Call of Juarez', 2), (\"Saint Seiya: Soldiers' Soul\", 2), ('Grand Slam Tennis 2', 2), ('Backbreaker', 2), ('MotoGP 14 ', 2), (\"The Lord of the Rings: Aragorn's Quest\", 2), ('Mega Man X: Command Mission', 2), ('Senran Kagura: Estival Versus', 2), ('Fight Club', 2), ('Rango: The Video Game', 2), ('Shrek: Forever After', 2), ('The Polar Express', 2), ('Whirl Tour', 2), ('Quantum Theory', 2), ('God Eater Resurrection', 2), ('FaceBreaker', 2), ('Conflict: Global Terror', 2), ('Phantasy Star Universe', 2), ('Armored Core: For Answer', 2), ('Justice League Heroes', 2), ('The Legend of Heroes: Trails of Cold Steel II', 2), ('Risen', 2), ('Jurassic: The Hunted', 2), ('Ty the Tasmanian Tiger 3: Night of the Quinkan', 2), ('Samurai Warriors 2: Empires', 2), ('Arcania: Gothic 4', 2), ('NBA Ballers: Chosen One', 2), ('Killer is Dead', 2), ('Sword Art Online: Hollow Realization', 2), (\"Cabela's Deer Hunt: 2004 Season\", 2), ('Brothers: A Tale of Two Sons', 2), ('Eragon', 2), ('Zero Escape: Zero Time Dilemma', 2), ('Futurama', 2), ('Escape Dead Island', 2), ('Toy Soldiers: War Chest', 2), ('Wrath Unleashed', 2), ('Alvin and the Chipmunks', 2), ('TMNT: Mutant Melee', 2), ('Serious Sam: Next Encounter', 2), ('Port Royale 3', 2), ('Grand Kingdom', 2), ('Child of Light', 2), ('Tokyo Twilight Ghost Hunters', 2), ('Super Smash Bros. Melee', 2), ('N+', 2), ('Obscure', 2), ('Sega Soccer Slam', 2), ('Mario Kart 8', 2), ('Fallout: Brotherhood of Steel', 2), (\"Broken Sword 5: The Serpent's Curse\", 2), (\"Cabela's Trophy Bucks\", 2), ('Crash Bandicoot 3: Warped', 2), ('Mario vs. Donkey Kong: Tipping Stars', 2), ('Assetto Corsa', 2), ('Unchained Blades ', 2), ('MX vs. ATV Supercross', 2), ('Muppets Party Cruise', 2), ('Grand Ages: Medieval', 2), ('Samurai Warriors Chronicles 3', 2), ('FlatOut 2', 2), ('Gears of War 2', 2), ('Rugby 2005', 2), ('SpongeBob: HeroPants', 2), ('Mystic Heroes', 2), ('Arslan: The Warriors of Legend', 2), ('Damnation', 2), ('Supreme Commander', 2), ('Viewtiful Joe: Red Hot Rumble', 2), ('Knights in the Nightmare', 2), (\"Assassin's Creed\", 2), ('ShellShock 2: Blood Trails', 2), ('Resident Evil 2', 2), ('Lara Croft and the Temple of Osiris', 2), ('LittleBigPlanet', 2), ('Gears of War', 2), ('The Golf Club', 2), ('Pac-Man World Rally', 2), ('Knights Contract', 2), ('Adventure Time: The Secret of the Nameless Kingdom', 2), ('Halo: Combat Evolved', 2), ('Line Rider 2: Unbound', 2), ('Lost Dimension', 2), ('MLB Front Office Manager', 2), ('Red Dead Redemption', 2), ('World Series of Poker 2008: Battle for the Bracelets', 2), ('Alien Syndrome', 2), ('Tekken 3', 2), ('Just Dance', 2), ('Serious Sam II', 2), ('Star Trek: Tactical Assault', 2), ('Headhunter: Redemption', 2), (\"Greg Hastings' Tournament Paintball Max'd\", 2), ('Without Warning', 2), ('Napoleon Dynamite: The Game', 2), ('XBLAZE Code: Embryo', 2), (\"Cabela's Big Game Hunter: Pro Hunts\", 2), ('Worms: WMD', 2), ('Syberia II', 2), (\"The Peanuts Movie: Snoopy's Grand Adventure\", 2), ('Aegis of Earth: Protonovus Assault', 2), (\"Agatha Christie's The ABC Murders\", 2), ('Judge Dredd: Dredd Vs Death', 2), ('Legend of Kay Anniversary', 2), ('Grand Theft Auto III', 2), ('Worms', 2), ('Xblaze: Lost Memories', 2), ('Carmageddon: Max Damage', 2), ('Darksiders: Warmastered Edition', 2), ('Grand Theft Auto: Vice City', 2), ('Prototype: Biohazard Bundle', 2), ('Virtua Quest', 2), ('Mark McMorris Infinite Air', 2), ('Aquaman: Battle for Atlantis', 2), (\"Sherlock Holmes: The Devil's Daughter\", 2), ('Bookworm Deluxe', 2), ('Antz Extreme Racing', 2), ('Psycho-Pass: Mandatory Happiness', 2), ('Aeon Flux', 2), ('Halo 2', 2), ('The Fast and the Furious', 2), ('Exist Archive: The Other Side of the Sky', 2), ('Urban Chaos: Riot Response', 2), ('Ivy the Kiwi?', 2), ('Top Gun: Hard Lock', 2), ('Grand Theft Auto: Liberty City Stories', 2), ('Pump It Up: Exceed', 2), ('Ride to Hell', 2), ('Hail to the Chimp', 2), ('Final Fight: Streetwise', 2), ('Enemy Front', 2), (\"SpongeBob SquarePants: Plankton's Robotic Revenge\", 2), ('Rugby Challenge 3', 2), ('OutRun 2006: Coast 2 Coast', 2), ('Saints Row: Gat out of Hell', 2), ('NASCAR Heat Evolution', 2), ('The Lord of the Rings: The Battle for Middle-Earth II', 2), ('Colin McRae Rally 2005', 2), ('Root Letter', 2), ('Sébastien Loeb Rally Evo', 2), ('Guilty Gear XX Accent Core', 2), (\"Grey's Anatomy: The Video Game\", 2), ('Rogue Trooper', 2), ('Red Ninja: End of Honor', 2), ('Yaiba: Ninja Gaiden Z', 2), ('Digimon All-Star Rumble', 2), (\"Jimmie Johnson's Anything With an Engine\", 2), ('Supremacy MMA', 2), ('7 Days to Die', 2), ('Dead Island Definitive Collection', 2), ('UEFA Euro 2004: Portugal', 2), ('NCIS', 2), ('Persona 4: Arena Ultimax', 2), ('Legends of Wrestling', 2), ('The Guy Game', 2), ('Rogue Warrior', 2), ('Ys: The Ark of Napishtim', 2), ('NBA 08', 2), (\"Shrek Smash n' Crash Racing\", 2), ('BlazBlue: Continuum Shift II', 2), ('Deception IV: Blood Ties', 2), ('Eat Lead: The Return of Matt Hazard', 2), ('Dokapon Kingdom', 2), ('Baroque', 2), ('NeverDead', 2), ('NHL 2K7', 2), ('Obscure: The Aftermath', 2), ('Record of Agarest War Zero', 2), ('Star Trek: Conquest', 2), ('Ferrari Challenge Trofeo Pirelli', 2), ('Don Bradman Cricket 14', 2), ('Zathura', 2), ('Atelier Sophie: The Alchemist of the Mysterious Book', 2), ('X-Blades', 2), ('Namco Museum', 2), ('Power Gig: Rise of the SixString', 2), ('Megamind: Ultimate Showdown', 2), ('Heroes over Europe', 2), ('Putty Squad', 2), ('Chessmaster: The Art of Learning', 2), ('Fantasia: Music Evolved', 2), ('Bomberman', 2), ('Left 4 Dead 2', 2), ('Blitz: The League II', 2), ('MLB Power Pros 2008', 2), ('Killer7', 2), ('Carnival Games', 2), ('F1 2001', 2), ('Space Invaders Extreme', 2), ('Sphinx and the Cursed Mummy', 2), ('World Soccer Winning Eleven 9', 2), ('187: Ride or Die', 2), ('Blazing Angels 2: Secret Missions of WWII', 2), ('Half-Life', 2), ('Fatal Frame', 2), ('Geometry Wars: Galaxies', 2), ('MTV Music Generator 3: This Is the Remix', 2), ('Doom', 2), ('NFL Head Coach 09', 2), ('Skylanders Imaginators', 2), ('The Da Vinci Code', 2), ('Cel Damage', 2), ('Hatsune Miku: Project Diva X', 2), (\"Total Overdose: A Gunslinger's Tale in Mexico\", 2), ('Tomb Raider', 2), ('Fable III', 2), ('Wasteland 2', 2), ('The First Templar', 2), ('Syberia', 2), ('Riviera: The Promised Land', 2), ('Blades of Time', 2), ('NASCAR The Game: Inside Line', 2), ('Colin McRae Rally 04', 2), ('RLH: Run Like Hell', 2), ('Scribblenauts Unmasked: A DC Comics Adventure', 2), ('The Ant Bully', 2), ('Agatha Christie: The ABC Murders', 2), ('Alien Hominid', 2), ('Myst', 2), ('Harvey Birdman: Attorney at Law', 2), ('Steins;Gate', 2), ('Star Trek: Shattered Universe', 2), ('Guitar Hero II', 2), ('Barnyard', 2), ('Speed Kings', 2), ('Final Fantasy XIII', 2), ('Raven Squad: Operation Hidden Dagger', 2), ('Scaler', 2), ('Medal of Honor: Vanguard', 2), ('Steins;Gate 0', 2), ('Lucha Libre AAA: Heroes del Ring', 2), ('FlatOut: Ultimate Carnage', 2), (\"Cabela's North American Adventures\", 2), ('Coraline', 2), ('Space Chimps', 2), ('Gladiator: Sword of Vengeance', 2), ('Rodea the Sky Soldier', 2), ('Psychonauts', 2), (\"nail'd\", 2), ('Marvel Avengers: Battle for Earth', 2), ('F1 2002', 2), ('NASCAR 07', 2), ('Rugby 15', 2), ('Blood Drive', 2), ('Batman: Dark Tomorrow', 2), ('Cold Fear', 2), ('Blazblue: Continuum Shift Extend', 2), ('Where the Wild Things Are', 2), ('Pimp My Ride', 2), ('Capcom vs. SNK 2 EO', 2), ('Open Season', 2), (\"Tony Hawk's Pro Skater 2\", 2), ('Worms Forts: Under Siege', 2), ('Astro Boy: The Video Game', 2), ('Grand Theft Auto: Vice City Stories', 2), ('Bodycount', 2), ('Alias', 2), ('Constantine', 2), ('World Series Baseball 2K3', 2), ('Star Wars Jedi Knight II: Jedi Outcast', 2), ('The Mummy: Tomb of the Dragon Emperor', 2), ('MX vs. ATV: Alive', 2), ('SpongeBob SquarePants featuring Nicktoons: Globs of Doom', 2), ('NCAA Football 13', 2), ('Star Wars: Bounty Hunter', 2), ('NCAA Football 14', 2), ('Tales of Zestiria', 2), ('Arena Football', 2), ('Tales of Symphonia', 2), ('Castlevania: Lords of Shadow', 2), ('NCAA March Madness 07', 2), ('Fight Night Champion', 2), ('ModNation Racers', 2), ('All-Star Baseball 2002', 2), ('Watch Dogs 2', 2), ('Naruto Shippuden: Ultimate Ninja Storm 4', 2), ('Red Dead Redemption: Undead Nightmare', 2), ('ESPN NFL Football', 2), ('Quantum Break', 2), ('WWE 2K14', 2), ('Frontlines: Fuel of War', 2), ('Enslaved: Odyssey to the West', 2), ('Catz', 2), ('Batman: Vengeance', 2), ('Hot Shots Golf: World Invitational', 2), ('Skate 2', 2), ('NASCAR Thunder 2004', 2), ('Blacksite: Area 51', 2), ('Jaws Unleashed', 2), (\"Spider-Man: Mysterio's Menace\", 2), ('UFC Undisputed 3', 2), ('Naruto: Ultimate Ninja', 2), ('Pac-Man Party', 2), ('MX vs. ATV Unleashed', 2), ('Wave Race: Blue Storm', 2), ('Yakuza: Dead Souls', 2), ('Dynasty Warriors 8', 2), ('Secret Agent Clank', 2), ('Rayman Arena', 2), ('MVP Baseball 2003', 2), ('Prince of Persia', 2), ('EA Sports UFC', 2), ('NBA 2K3', 2), ('Hot Wheels: Stunt Track Challenge', 2), ('Terminator 3: Rise of the Machines', 2), ('Mortal Kombat: Armageddon', 2), ('Lightning Returns: Final Fantasy XIII', 2), ('NASCAR: Dirt to Daytona', 2), ('FIFA Soccer', 2), ('Skate it', 2), ('Phineas and Ferb: Across the 2nd Dimension', 2), ('Shadow of the Colossus', 2), ('American Idol', 2), ('Final Fantasy IV Advance', 2), ('Sly Cooper: Thieves in Time', 2), ('Way of the Samurai 3', 2), ('SimAnimals', 2), ('Pac-Man Fever', 2), ('DC Universe Online', 2), ('Major League Baseball 2K10', 2), ('Silent Hill 4: The Room', 2), ('Black', 2), ('Looney Tunes: Back in Action', 2), ('Rockstar Games presents Table Tennis', 2), ('Final Fantasy X / X-2 HD Remaster', 2), ('Manhunt', 2), ('Star Wars: Jedi Starfighter', 2), ('The Elder Scrolls Online', 2), ('NBA Street Homecourt', 2), ('EA Playground', 2), ('[Prototype]', 2), ('NFL 2K3', 2), ('The Matrix: Path of Neo', 2), ('Sonic Lost World', 2), ('Grand Theft Auto: Chinatown Wars', 2), ('Backyard Baseball', 2), ('Corvette', 2), ('Alan Wake', 2), ('NASCAR Thunder 2003', 2), ('Silent Hill: Origins', 2), ('Naruto Shippuden: Ultimate Ninja Storm 2', 2), ('Midnight Club 3: DUB Edition Remix', 2), ('NHL 14', 2), ('F1 2013', 2), ('Legends of WrestleMania', 2), ('F.E.A.R.', 2), ('Tiger Woods PGA Tour 13', 2), ('Dynasty Warriors: Gundam 3', 2), ('Medal of Honor Heroes 2', 2), ('Metro 2033', 2), ('ESPN NBA Basketball', 2), ('NASCAR Thunder 2002', 2), ('NCAA March Madness 06', 2), ('Bayonetta', 2), (\"Cabela's Dangerous Hunts\", 2), ('NCAA March Madness 2005', 2), ('Conflict: Vietnam', 2), (\"Dragon's Crown\", 2), ('NBA 06', 2), ('Terminator Salvation', 2), ('Juiced', 2), ('NHL 2002', 2), ('The Lord of the Rings: The Fellowship of the Ring', 2), ('Rory McIlroy PGA Tour', 2), (\"Dragon Ball Z: Buu's Fury\", 2), ('Street Fighter Alpha 3', 2), ('Prison Break: The Conspiracy', 2), ('NHL 10', 2), ('Tales of the Abyss', 2), ('Skate', 2), ('Godzilla: Destroy All Monsters Melee', 2), ('Need for Speed: Nitro', 2), ('Dragon Ball: Xenoverse 2', 2), ('NCAA Football 09', 2), ('Kill.Switch', 2), ('Catherine', 2), ('NHL 12', 2), ('Burnout Legends', 2), ('ESPN College Hoops 2K5', 2), ('Mortal Kombat: Shaolin Monks', 2), ('Tekken Tag Tournament 2', 2), ('Dragon Ball Z: Burst Limit', 2), (\"Baldur's Gate: Dark Alliance II\", 2), ('Rocky', 2), ('The Last Remnant', 2), ('F1 2009', 2), ('Borderlands: The Handsome Collection', 2), ('Star Wars: Republic Commando', 2), ('ESPN NHL 2K5', 2), ('MX vs. ATV Reflex', 2), ('The Darkness', 2), ('MLB 10: The Show', 2), ('Stranglehold', 2), ('Devil May Cry HD Collection', 2), ('MLB 13: The Show', 2), ('Dragon Ball: Raging Blast', 2), ('Drawn to Life: The Next Chapter', 2), ('SoulCalibur V', 2), ('Shark Tale', 2), ('Worms: Open Warfare', 2), ('MVP 06 NCAA Baseball', 2), ('UFC Personal Trainer: The Ultimate Fitness System', 2), ('Need for Speed: Porsche Unleashed', 2), ('Goldeneye 007: Reloaded', 2), ('Ace Combat: Assault Horizon', 2), ('Resonance of Fate', 2), ('NASCAR 2001', 2), (\"Oddworld: Munch's Oddysee\", 2), ('Persona 4: Arena', 2), ('NHL 11', 2), ('Full Spectrum Warrior', 2), ('The Godfather II', 2), ('Naruto Shippuden: Ultimate Ninja Storm Generations', 2), ('DmC: Devil May Cry', 2), ('Dragon Ball Z: Budokai Tenkaichi 2', 2), ('Hitman: Contracts', 2), ('Major League Baseball 2K7', 2), ('Thrillville', 2), ('Street Fighter Anniversary Collection', 2), ('MotorStorm: Arctic Edge', 2), ('Lollipop Chainsaw', 2), ('Wild ARMs 3', 2), ('The Witcher 2: Assassins of Kings', 2), ('Donkey Kong Barrel Blast', 2), ('Shinobi', 2), ('Strike Force Bowling', 2), ('Red Steel 2', 2), ('XGRA: Extreme G-Racing Association', 2), ('Tomb Raider III: Adventures of Lara Croft', 2), ('Battle of Giants: Dragons', 2), (\"SpongeBob's Atlantis SquarePantis\", 2), ('NFL Fever 2003', 2), ('Medal of Honor: Underground', 2), ('Cooking Mama 4: Kitchen Magic!', 2), ('Brutal Legend', 2), ('Fire Emblem: Shadow Dragon', 2), ('Metroid Prime: Trilogy', 2), ('Dora the Explorer: Super Spies', 2), ('Advance Wars: Days of Ruin', 2), ('NCAA Football 12', 2), (\"Texas Hold 'Em Poker\", 2), ('Time Crisis 3', 2), ('Tearaway', 2), ('Petz: Catz 2', 2), ('PlayStation All-Stars Battle Royale', 2), ('Buzz Lightyear of Star Command', 2), ('Shin Megami Tensei: Persona 3 Portable', 2), ('MLB 12: The Show', 2), (\"Fist of the North Star: Ken's Rage\", 2), ('Brothers In Arms: Road to Hill 30', 2), ('Street Fighter V', 2), ('Sonic Riders: Zero Gravity', 2), ('Farming Simulator 17', 2), ('Dynasty Warriors 7', 2), ('Crash: Twinsanity', 2), ('Knockout Kings 2002', 2), ('SpongeBob SquarePants: The Yellow Avenger', 2), ('Sengoku Basara: Samurai Heroes', 2), ('NCAA Football 11', 2), ('Lost Planet 2', 2), ('Top Gun: Combat Zones', 2), (\"Tony Hawk's Pro Skater 2x\", 2), ('White Knight Chronicles II', 2), ('EA Sports UFC 2', 2), ('The Sims 3: Generations', 2), ('Ape Escape 2', 2), ('Naruto Shippuden: Ultimate Ninja Storm 3', 2), ('Shin Megami Tensei: Persona 3 FES', 2), ('MLB 06: The Show', 2), ('NCAA Football 10', 2), ('Dark Sector', 2), ('Secret Weapons Over Normandy', 2), ('Bratz: The Movie', 2), ('Star Wars Battlefront: Elite Squadron', 2), ('Binary Domain', 2), ('Golden Axe: Beast Rider', 2), ('SWAT: Global Strike Team', 2), ('PaRappa The Rapper', 2), ('Battlestations: Pacific', 2), ('Def Jam Rapstar', 2), ('MX Unleashed', 2), ('Final Fantasy XI', 2), ('Warhammer 40,000: Squad Command', 2), ('Darkwatch', 2), ('Hatsune Miku: Project Diva F 2nd', 2), ('FIFA Street 3', 2), ('Burnout Paradise', 2), ('Silent Hill HD Collection', 2), ('Def Jam Vendetta', 2), ('All-Star Baseball 2005', 2), ('Spyro: Enter the Dragonfly', 2), ('Shenmue II', 2), ('Rugby World Cup 2011', 2), ('Mortal Kombat vs. DC Universe', 2), ('J Stars Victory Vs.', 2), ('Dark Souls', 2), (\"LEGO Legends of Chima: Laval's Journey\", 2), ('Teen Titans', 2), ('Legends of Wrestling II', 2), (\"Kelly Slater's Pro Surfer\", 2), ('Dynasty Warriors 5 Empires', 2), ('50 Cent: Bulletproof', 2), ('WWE Crush Hour', 2), ('Midnight Club II', 2), ('Sly 2: Band of Thieves', 2), ('Teenage Mutant Ninja Turtles: Smash-Up', 2), ('Chicken Shoot', 2), ('Rayman Raving Rabbids 2', 2), ('Karaoke Revolution', 2), ('NCAA Football 06', 2), ('Tropico 4', 2), ('Transformers: Dark of the Moon', 2), ('Fracture', 2), (\"Tim Burton's The Nightmare Before Christmas: Oogie's Revenge\", 2), ('Supreme Commander 2', 2), ('Racquet Sports', 2), ('Conan', 2), ('Leisure Suit Larry: Magna Cum Laude', 2), ('Dynasty Warriors 6 Empires', 2), ('World of Final Fantasy', 2), ('NHL 17', 2), ('Dynasty Warriors 3', 2), ('The King of Fighters XIII', 2), ('Call of Duty 2', 2), ('Clash of the Titans', 2), ('Bass Pro Shops: The Strike', 2), ('Blade II', 2), ('Zumba Fitness', 2), ('True Crime: New York City', 2), (\"Army of Two: The Devil's Cartel\", 2), ('The Incredibles', 2), ('Pro Race Driver', 2), ('Rocky: Legends', 2), ('BloodRayne 2', 2), ('The Club', 2), ('Shadows of the Damned', 2), ('Reign of Fire', 2), ('Dragon Ball Z: Budokai 2', 2), ('Need for Speed Carbon: Own the City', 2), ('Section 8', 2), ('Family Guy: Back to the Multiverse', 2), ('All-Pro Football 2K8', 2), ('Batman: Return to Arkham', 2), ('Superman Returns', 2), ('Battlestations: Midway', 2), ('NCAA March Madness 08', 2), ('Midnight Club: Los Angeles', 2), ('Pure', 2), ('Crazy Taxi', 2), ('NHL 08', 2), ('El Shaddai: Ascension of the Metatron', 2), ('Dead to Rights: Retribution', 2), ('Resident Evil - Code: Veronica X', 2), ('Turning Point: Fall of Liberty', 2), ('UFC 2009 Undisputed', 2), ('BlazBlue: Chrono Phantasma', 2), ('Final Fantasy III', 2), ('Grandia II', 2), ('Tetris Worlds', 2), ('MySims SkyHeroes', 2), ('Syphon Filter: Dark Mirror', 2), ('Dynasty Warriors 4', 2), ('Harvest Moon: Magical Melody', 2), ('Prince of Persia: Rival Swords', 2), ('MLB Power Pros', 2), ('Mission: Impossible - Operation Surma', 2), ('Sakura Wars: So Long, My Love', 2), ('Star Wars: Knights of the Old Republic', 2), ('Psi-Ops: The Mindgate Conspiracy', 2), ('World of Tanks', 2), ('Majin and the Forsaken Kingdom', 2), ('Street Hoops', 2), ('Hatsune Miku: Project Diva f', 2), (\"Bladestorm: The Hundred Years' War\", 2), ('Jackass the Game', 2), (\"Sonic's Ultimate Genesis Collection\", 2), ('Earth Defense Force 2025', 2), ('Def Jam: Fight for NY', 2), ('Sword Art Online: Lost Song', 2), ('The Incredibles: Rise of the Underminer', 2), ('Colin McRae Rally 3', 2), ('Worms: Open Warfare 2', 2), ('Ridge Racer', 2), ('Viking: Battle for Asgard', 2), (\"Robert Ludlum's The Bourne Conspiracy\", 2), ('Metal Gear Rising: Revengeance', 2), ('Child of Eden', 2), ('NFL Blitz 20-03', 2), ('Eternal Sonata', 2), ('Ninja Gaiden 3', 2), ('Naruto Shippuden: Ultimate Ninja Storm Revolution', 2), ('Naughty Bear', 2), ('Red Dead Revolver', 2), ('Disney Sing It', 2), ('Def Jam Icon', 2), ('Battlefield: Bad Company', 2), ('25 to Life', 2), ('Fight Night 2004', 2), ('Batman: Arkham Origins Blackgate', 2), ('Zone of the Enders HD Collection', 2), ('Hot Wheels World Race', 2), ('Superman: Shadow of Apokolips', 2), ('Major League Baseball 2K5', 2), ('Forza Horizon 2', 2), ('The Thing', 2), ('Dynasty Warriors 5', 2), (\"Syphon Filter: Logan's Shadow\", 2), ('X-Men: Next Dimension', 2), ('Dynasty Warriors Gundam', 2), ('Rock Band 4', 2), ('ICO', 2), ('Hot Wheels Velocity X', 2), ('L.A. Rush', 2), ('World Series of Poker', 2), ('Final Fantasy Crystal Chronicles: Echoes of Time', 2), ('Godzilla: Save the Earth', 2), ('SimCity Creator', 2), ('Brothers In Arms: Earned in Blood', 2), ('Silent Hill: Homecoming', 2), ('Doom 3', 2), ('Silent Hill: Downpour', 2), ('Delta Force: Black Hawk Down', 2), ('Top Spin', 2), ('The Powerpuff Girls: Relish Rampage', 2), ('NFL Head Coach', 2), ('Area 51', 2), ('Test Drive', 2), ('Star Wars Jedi Knight: Jedi Academy', 2), ('Samurai Warriors', 2), ('American Chopper', 2), ('Castlevania: Curse of Darkness', 2), ('Fight Night Round 4', 2), ('Quake 4', 2), ('NBA Ballers', 2), ('Brunswick Pro Bowling', 2), ('FlatOut', 2), ('Hunter: The Reckoning', 2), ('Madden NFL 2001', 2), ('The Dog Island', 2), ('Sonic Colors', 2), (\"Cabela's Deer Hunt 2005 Season\", 2), ('Trivial Pursuit', 2), ('EA Sports MMA', 2), ('Tiger Woods PGA Tour 14', 2), ('Ice Age 2: The Meltdown', 2), ('BioShock The Collection', 2), ('Dishonored', 2), ('The Legend of Spyro: A New Beginning', 2), (\"Dragon's Dogma\", 2), ('Wanted: Weapons of Fate', 2), ('State of Emergency', 2), ('High Heat Major League Baseball 2004', 2), ('Robots', 2), ('NARC', 2), ('Bionic Commando', 2), ('MotoGP 08', 2), ('Chessmaster', 2), ('The Suffering', 2), ('Minority Report: Everybody Runs', 2), ('MVP Baseball 2005', 2), (\"Tom Clancy's Ghost Recon Advanced Warfighter\", 2), ('Jimmy Neutron: Boy Genius', 2), ('Marvel Super Hero Squad', 2), (\"Smuggler's Run\", 2), ('The Terminator: Dawn of Fate', 2), ('God Eater 2: Rage Burst', 2), (\"Disney's Tarzan Untamed\", 2), ('SoulCalibur IV', 2), ('BlazBlue: Continuum Shift', 2), ('NFL GameDay 2002', 2), ('Blood Omen 2', 2), ('Six Flags Fun Park', 2), ('ESPN NBA 2K5', 2), ('Gauntlet: Seven Sorrows', 2), ('Overlord', 2), ('NFL Street 2', 2), ('Viva Pinata', 2), (\"Asura's Wrath\", 2), ('18 Wheeler: American Pro Trucker', 2), ('Armored Core V', 2), ('Army of Two', 2), ('E.T. The Extra-Terrestrial', 2)]\n"
     ]
    },
    {
     "data": {
      "text/plain": [
       "index              4694\n",
       "Name               4694\n",
       "Platform             17\n",
       "Year_of_Release      24\n",
       "Genre                12\n",
       "Publisher           270\n",
       "NA_Sales            334\n",
       "EU_Sales            258\n",
       "JP_Sales            158\n",
       "Other_Sales         136\n",
       "Global_Sales        518\n",
       "User_Score           94\n",
       "User_Count          665\n",
       "Rating                7\n",
       "dtype: int64"
      ]
     },
     "execution_count": 8,
     "metadata": {},
     "output_type": "execute_result"
    }
   ],
   "source": [
    "# Print duplicate values in the column Name as well as the number of duplicates for each value in a dictionary\n",
    "\n",
    "duplicates = df['Name'].duplicated(keep=False)\n",
    "duplicates = df[duplicates]\n",
    "duplicates = duplicates['Name'].value_counts().to_dict()\n",
    "print(duplicates)\n",
    "\n",
    "# Sort the Names based on their duplicate count fromd duplicates dictionary\n",
    "\n",
    "sorted_duplicates = sorted(duplicates.items(), key=lambda x: x[1], reverse=True)\n",
    "print(sorted_duplicates)\n",
    "\n",
    "\n",
    "# Drop rows with duplicate names from the dataset and keep one row per game.\n",
    "\n",
    "df = df.drop_duplicates(subset='Name', keep='first')\n",
    "\n",
    "df.nunique()\n"
   ]
  },
  {
   "cell_type": "code",
   "execution_count": 9,
   "metadata": {},
   "outputs": [
    {
     "name": "stdout",
     "output_type": "stream",
     "text": [
      "<class 'pandas.core.frame.DataFrame'>\n",
      "Index: 4694 entries, 0 to 16709\n",
      "Data columns (total 14 columns):\n",
      " #   Column           Non-Null Count  Dtype  \n",
      "---  ------           --------------  -----  \n",
      " 0   index            4694 non-null   int64  \n",
      " 1   Name             4694 non-null   object \n",
      " 2   Platform         4694 non-null   object \n",
      " 3   Year_of_Release  4626 non-null   float64\n",
      " 4   Genre            4694 non-null   object \n",
      " 5   Publisher        4690 non-null   object \n",
      " 6   NA_Sales         4694 non-null   float64\n",
      " 7   EU_Sales         4694 non-null   float64\n",
      " 8   JP_Sales         4694 non-null   float64\n",
      " 9   Other_Sales      4694 non-null   float64\n",
      " 10  Global_Sales     4694 non-null   float64\n",
      " 11  User_Score       4694 non-null   object \n",
      " 12  User_Count       4694 non-null   float64\n",
      " 13  Rating           4631 non-null   object \n",
      "dtypes: float64(7), int64(1), object(6)\n",
      "memory usage: 550.1+ KB\n"
     ]
    }
   ],
   "source": [
    "df.info()"
   ]
  },
  {
   "cell_type": "code",
   "execution_count": 10,
   "metadata": {},
   "outputs": [],
   "source": [
    "# df.to_csv('datasets/VideoGamesSalesCleaned.csv', index=False)"
   ]
  },
  {
   "cell_type": "code",
   "execution_count": 11,
   "metadata": {},
   "outputs": [
    {
     "name": "stdout",
     "output_type": "stream",
     "text": [
      "index               0\n",
      "Name                0\n",
      "Platform            0\n",
      "Year_of_Release    68\n",
      "Genre               0\n",
      "Publisher           4\n",
      "NA_Sales            0\n",
      "EU_Sales            0\n",
      "JP_Sales            0\n",
      "Other_Sales         0\n",
      "Global_Sales        0\n",
      "User_Score          0\n",
      "User_Count          0\n",
      "Rating             63\n",
      "dtype: int64\n"
     ]
    }
   ],
   "source": [
    "# sum of missing values in each column\n",
    "print(df.isnull().sum())"
   ]
  }
 ],
 "metadata": {
  "kernelspec": {
   "display_name": "mleVenv",
   "language": "python",
   "name": "python3"
  },
  "language_info": {
   "codemirror_mode": {
    "name": "ipython",
    "version": 3
   },
   "file_extension": ".py",
   "mimetype": "text/x-python",
   "name": "python",
   "nbconvert_exporter": "python",
   "pygments_lexer": "ipython3",
   "version": "3.11.7"
  }
 },
 "nbformat": 4,
 "nbformat_minor": 2
}
